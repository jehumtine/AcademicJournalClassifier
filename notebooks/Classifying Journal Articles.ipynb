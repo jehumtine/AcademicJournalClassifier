{
 "cells": [
  {
   "cell_type": "markdown",
   "id": "ce2d96c8897dd95a",
   "metadata": {},
   "source": [
    "# Business Understanding\n",
    "## Problem Statement\n",
    "The University of Zambia (UNZA) hosts a growing repository of academic journal articles across multiple disciplines. However, these articles are not systematically categorized according to Zambia’s Vision 2030 development sectors. This lack of alignment presents a missed opportunity to leverage UNZA’s intellectual output for national strategic planning, policy formulation, and sectoral development monitoring.\n",
    "\n",
    "This project aims to develop a data-driven classification system that maps UNZA journal articles to the appropriate Vision 2030 sectors using machine learning techniques. By automating this classification, we intend to bridge the gap between academic research and national development priorities, enabling policymakers, researchers, and institutions to better identify and track sectoral contributions and trends."
   ]
  },
  {
   "cell_type": "markdown",
   "id": "3cddee62",
   "metadata": {},
   "source": [
    "## Objectives\n",
    "**1. To align the University of Zambia’s research with national priorities:**\n",
    "Systematically map academic journal articles to Zambia’s Vision 2030 development sectors to highlight how the UNZA’s intellectual output contributes to achieving national development goals.\n",
    "\n",
    "**2. To enable evidence-based decision-making:**\n",
    "Provide policymakers, researchers, and development stakeholders with an accessible, data-driven tool for identifying sectoral trends and gaps in research, thereby supporting targeted policy formulation and strategic resource allocation.\n",
    "\n",
    "**3. To automate and scale research classification:**\n",
    "Develop a machine learning–powered system to classify and update the categorization of research articles efficiently, ensuring scalability as UNZA’s repository grows and enabling continuous monitoring of sectoral contributions over time."
   ]
  },
  {
   "cell_type": "markdown",
   "id": "7934fefe",
   "metadata": {},
   "source": [
    "## Data Mining Goals\n",
    "\n",
    "**1. Design a supervised multi-class classification model** to assign each UNZA journal article to one of Zambia’s Vision 2030 sectors based on the article’s metadata (title, abstract, and keywords).\n",
    "\n",
    "*Purpose*: Reveal the alignment between academic output and national development areas.\n",
    "\n",
    "*Method*: Use labeled training data mapped to Vision 2030 sectors, extracted from a subset of articles.\n",
    "\n",
    "**Expected Output**: Accurate labels such as “Education,” “Agriculture,” “Health,” “Infrastructure”, etc.\n",
    "\n",
    "**2. Identify latent research clusters and anomalies** through unsupervised learning (e.g., clustering or topic modeling) to uncover emerging themes or neglected areas.\n",
    "\n",
    "*Purpose*: Help decision-makers identify new or missing areas of national interest not currently emphasized in the Vision 2030 framework.\n",
    "\n",
    "*Method*: Apply techniques like K-Means, DBSCAN, or LDA topic modeling on text embeddings.\n",
    "\n",
    "**Expected Output**: Visual or descriptive reports of discovered themes or outliers.\n",
    "\n",
    "**3. Deploy a scalable, retrainable classification pipeline** using modern ML techniques and modular design.\n",
    "\n",
    "*Purpose*: Automate the tagging process for future UNZA research uploads.\n",
    "\n",
    "*Method*: Build a modular pipeline for preprocessing, vectorization (e.g., TF-IDF or BERT), training, evaluation, and inference.\n",
    "\n",
    "**Expected Output**: A script or web app that classifies new articles on upload.\n",
    "\n",
    "**4. Continuously evaluate model performance** over time using metrics such as F1-score, accuracy, and confusion matrices.\n",
    "\n",
    "*Purpose*: Ensure system reliability and adaptiveness as language and research topics evolve.\n",
    "\n",
    "*Method*: Establish a validation framework and regularly benchmark models.\n",
    "\n",
    "**Expected Output**: Monitoring logs or retraining criteria to prevent model drift."
   ]
  },
  {
   "cell_type": "markdown",
   "id": "faa0bceb",
   "metadata": {},
   "source": [
    "## Initial Project Success Criteria\n",
    "\n",
    "The project will be considered initially successful if the supervised classification model achieves at least 60% accuracy in assigning UNZA journal articles to the correct Zambia Vision 2030 development sectors.\n",
    "\n",
    "This baseline is realistic for a first iteration, considering:\n",
    "\n",
    "Data quality issues such as incomplete or inconsistent titles, abstracts, or keywords.\n",
    "\n",
    "Sector overlap, where some research spans multiple development areas.\n",
    "\n",
    "Model maturity, as this is the initial deployment and will improve with further training and tuning.\n",
    "\n",
    "Achieving this baseline will:\n",
    "\n",
    "Demonstrate that the model performs significantly above random guessing.\n",
    "\n",
    "Provide policymakers and researchers with a usable starting point for tracking sectoral research contributions.\n",
    "\n",
    "Establish a functional foundation for refining the system toward higher accuracy and more adoption."
   ]
  },
  {
   "cell_type": "markdown",
   "id": "60384f44b96b46e",
   "metadata": {},
   "source": [
    "# Data Understanding"
   ]
  },
  {
   "cell_type": "code",
   "execution_count": 10,
   "id": "4e6f9ac4ea5bcc4d",
   "metadata": {
    "jupyter": {
     "is_executing": true
    }
   },
   "outputs": [
    {
     "name": "stdout",
     "output_type": "stream",
     "text": [
      "First 5 rows:\n"
     ]
    },
    {
     "data": {
      "text/html": [
       "<div>\n",
       "<style scoped>\n",
       "    .dataframe tbody tr th:only-of-type {\n",
       "        vertical-align: middle;\n",
       "    }\n",
       "\n",
       "    .dataframe tbody tr th {\n",
       "        vertical-align: top;\n",
       "    }\n",
       "\n",
       "    .dataframe thead th {\n",
       "        text-align: right;\n",
       "    }\n",
       "</style>\n",
       "<table border=\"1\" class=\"dataframe\">\n",
       "  <thead>\n",
       "    <tr style=\"text-align: right;\">\n",
       "      <th></th>\n",
       "      <th>source</th>\n",
       "      <th>id</th>\n",
       "      <th>doi</th>\n",
       "      <th>title</th>\n",
       "      <th>abstract</th>\n",
       "      <th>authors</th>\n",
       "      <th>published</th>\n",
       "      <th>pdf_url</th>\n",
       "      <th>topics</th>\n",
       "      <th>journal</th>\n",
       "      <th>assigned_sectors</th>\n",
       "      <th>provenance_sources</th>\n",
       "      <th>query_sector</th>\n",
       "    </tr>\n",
       "  </thead>\n",
       "  <tbody>\n",
       "    <tr>\n",
       "      <th>0</th>\n",
       "      <td>openalex</td>\n",
       "      <td>https://openalex.org/W2130222293</td>\n",
       "      <td>https://doi.org/10.1093/occmed/52.6.311</td>\n",
       "      <td>Pesticide sprayers' knowledge, attitude and pr...</td>\n",
       "      <td>Pesticide sprayers from five state‐owned agric...</td>\n",
       "      <td>NaN</td>\n",
       "      <td>2002-09-01</td>\n",
       "      <td>https://academic.oup.com/occmed/article-pdf/52...</td>\n",
       "      <td>Pesticide Exposure and Toxicity;Insect and Pes...</td>\n",
       "      <td>NaN</td>\n",
       "      <td>Agriculture</td>\n",
       "      <td>openalex</td>\n",
       "      <td>Agriculture</td>\n",
       "    </tr>\n",
       "    <tr>\n",
       "      <th>1</th>\n",
       "      <td>openalex</td>\n",
       "      <td>https://openalex.org/W2765377880</td>\n",
       "      <td>https://doi.org/10.1016/j.agsy.2017.09.007</td>\n",
       "      <td>Climate smart agriculture, farm household typo...</td>\n",
       "      <td>One of the great challenges in agricultural de...</td>\n",
       "      <td>NaN</td>\n",
       "      <td>2017-11-01</td>\n",
       "      <td>NaN</td>\n",
       "      <td>Agricultural risk and resilience</td>\n",
       "      <td>NaN</td>\n",
       "      <td>Agriculture</td>\n",
       "      <td>openalex</td>\n",
       "      <td>Agriculture</td>\n",
       "    </tr>\n",
       "    <tr>\n",
       "      <th>2</th>\n",
       "      <td>openalex</td>\n",
       "      <td>https://openalex.org/W2808245019</td>\n",
       "      <td>https://doi.org/10.1073/pnas.1806645115</td>\n",
       "      <td>Policy distortions, farm size, and the overuse...</td>\n",
       "      <td>Significance Overuse of agricultural chemicals...</td>\n",
       "      <td>NaN</td>\n",
       "      <td>2018-06-18</td>\n",
       "      <td>https://www.pnas.org/content/pnas/115/27/7010....</td>\n",
       "      <td>Agriculture Sustainability and Environmental I...</td>\n",
       "      <td>NaN</td>\n",
       "      <td>Agriculture</td>\n",
       "      <td>openalex</td>\n",
       "      <td>Agriculture</td>\n",
       "    </tr>\n",
       "    <tr>\n",
       "      <th>3</th>\n",
       "      <td>openalex</td>\n",
       "      <td>https://openalex.org/W2171347306</td>\n",
       "      <td>https://doi.org/10.5860/choice.31-2759</td>\n",
       "      <td>Smallholders, householders: farm families and ...</td>\n",
       "      <td>Contrasting the prevailing theories of the evo...</td>\n",
       "      <td>NaN</td>\n",
       "      <td>1994-01-01</td>\n",
       "      <td>NaN</td>\n",
       "      <td>Agriculture, Land Use, Rural Development;Agric...</td>\n",
       "      <td>NaN</td>\n",
       "      <td>Agriculture</td>\n",
       "      <td>openalex</td>\n",
       "      <td>Agriculture</td>\n",
       "    </tr>\n",
       "    <tr>\n",
       "      <th>4</th>\n",
       "      <td>openalex</td>\n",
       "      <td>https://openalex.org/W2888829139</td>\n",
       "      <td>https://doi.org/10.1016/j.landusepol.2018.08.021</td>\n",
       "      <td>Land fragmentation and other determinants of a...</td>\n",
       "      <td>NaN</td>\n",
       "      <td>NaN</td>\n",
       "      <td>2018-08-29</td>\n",
       "      <td>NaN</td>\n",
       "      <td>Economic Growth and Productivity;Land Rights a...</td>\n",
       "      <td>NaN</td>\n",
       "      <td>Agriculture</td>\n",
       "      <td>openalex</td>\n",
       "      <td>Agriculture</td>\n",
       "    </tr>\n",
       "  </tbody>\n",
       "</table>\n",
       "</div>"
      ],
      "text/plain": [
       "     source                                id  \\\n",
       "0  openalex  https://openalex.org/W2130222293   \n",
       "1  openalex  https://openalex.org/W2765377880   \n",
       "2  openalex  https://openalex.org/W2808245019   \n",
       "3  openalex  https://openalex.org/W2171347306   \n",
       "4  openalex  https://openalex.org/W2888829139   \n",
       "\n",
       "                                                doi  \\\n",
       "0           https://doi.org/10.1093/occmed/52.6.311   \n",
       "1        https://doi.org/10.1016/j.agsy.2017.09.007   \n",
       "2           https://doi.org/10.1073/pnas.1806645115   \n",
       "3            https://doi.org/10.5860/choice.31-2759   \n",
       "4  https://doi.org/10.1016/j.landusepol.2018.08.021   \n",
       "\n",
       "                                               title  \\\n",
       "0  Pesticide sprayers' knowledge, attitude and pr...   \n",
       "1  Climate smart agriculture, farm household typo...   \n",
       "2  Policy distortions, farm size, and the overuse...   \n",
       "3  Smallholders, householders: farm families and ...   \n",
       "4  Land fragmentation and other determinants of a...   \n",
       "\n",
       "                                            abstract authors   published  \\\n",
       "0  Pesticide sprayers from five state‐owned agric...     NaN  2002-09-01   \n",
       "1  One of the great challenges in agricultural de...     NaN  2017-11-01   \n",
       "2  Significance Overuse of agricultural chemicals...     NaN  2018-06-18   \n",
       "3  Contrasting the prevailing theories of the evo...     NaN  1994-01-01   \n",
       "4                                                NaN     NaN  2018-08-29   \n",
       "\n",
       "                                             pdf_url  \\\n",
       "0  https://academic.oup.com/occmed/article-pdf/52...   \n",
       "1                                                NaN   \n",
       "2  https://www.pnas.org/content/pnas/115/27/7010....   \n",
       "3                                                NaN   \n",
       "4                                                NaN   \n",
       "\n",
       "                                              topics journal assigned_sectors  \\\n",
       "0  Pesticide Exposure and Toxicity;Insect and Pes...     NaN      Agriculture   \n",
       "1                   Agricultural risk and resilience     NaN      Agriculture   \n",
       "2  Agriculture Sustainability and Environmental I...     NaN      Agriculture   \n",
       "3  Agriculture, Land Use, Rural Development;Agric...     NaN      Agriculture   \n",
       "4  Economic Growth and Productivity;Land Rights a...     NaN      Agriculture   \n",
       "\n",
       "  provenance_sources query_sector  \n",
       "0           openalex  Agriculture  \n",
       "1           openalex  Agriculture  \n",
       "2           openalex  Agriculture  \n",
       "3           openalex  Agriculture  \n",
       "4           openalex  Agriculture  "
      ]
     },
     "metadata": {},
     "output_type": "display_data"
    }
   ],
   "source": [
    "# --- Step 1: Import libraries ---\n",
    "import pandas as pd\n",
    "import matplotlib.pyplot as plt\n",
    "# --- Step 2: Load dataset ---\n",
    "file_path = \"../data/vision2030_corpus.csv\"\n",
    "df = pd.read_csv(file_path)\n",
    "# --- Step 3: Initial Exploration ---\n",
    "print(\"First 5 rows:\")\n",
    "display(df.head())"
   ]
  },
  {
   "cell_type": "markdown",
   "id": "f45bd0b4365cbe22",
   "metadata": {},
   "source": [
    "The code above loads the dataset into our colaborotory notebook"
   ]
  },
  {
   "cell_type": "code",
   "execution_count": 11,
   "id": "ffe4f7bd",
   "metadata": {
    "ExecuteTime": {
     "end_time": "2025-08-20T09:40:02.696576Z",
     "start_time": "2025-08-20T09:40:02.636272Z"
    }
   },
   "outputs": [
    {
     "name": "stdout",
     "output_type": "stream",
     "text": [
      "\n",
      "Info:\n",
      "<class 'pandas.core.frame.DataFrame'>\n",
      "RangeIndex: 17136 entries, 0 to 17135\n",
      "Data columns (total 13 columns):\n",
      " #   Column              Non-Null Count  Dtype \n",
      "---  ------              --------------  ----- \n",
      " 0   source              17136 non-null  object\n",
      " 1   id                  17136 non-null  object\n",
      " 2   doi                 12312 non-null  object\n",
      " 3   title               17135 non-null  object\n",
      " 4   abstract            13509 non-null  object\n",
      " 5   authors             3196 non-null   object\n",
      " 6   published           17136 non-null  object\n",
      " 7   pdf_url             7526 non-null   object\n",
      " 8   topics              13903 non-null  object\n",
      " 9   journal             3196 non-null   object\n",
      " 10  assigned_sectors    17136 non-null  object\n",
      " 11  provenance_sources  17136 non-null  object\n",
      " 12  query_sector        17136 non-null  object\n",
      "dtypes: object(13)\n",
      "memory usage: 1.7+ MB\n"
     ]
    }
   ],
   "source": [
    "# --- Step 4: Summary statistics ---\n",
    "print(\"\\nInfo:\")\n",
    "df.info()\n"
   ]
  },
  {
   "cell_type": "markdown",
   "id": "1fc53fb2",
   "metadata": {},
   "source": [
    "Dataset has 17,136 rows × 13 columns.\n",
    "All columns are stored as object/text.\n",
    "Missing values appear mainly in authors, abstract, doi, pdf_url, and journal.\n",
    "Titles and abstracts differ in length, showing variation in metadata."
   ]
  },
  {
   "cell_type": "code",
   "execution_count": 12,
   "id": "c2e83388",
   "metadata": {
    "ExecuteTime": {
     "end_time": "2025-08-20T09:40:05.711613Z",
     "start_time": "2025-08-20T09:40:05.459874Z"
    }
   },
   "outputs": [
    {
     "name": "stdout",
     "output_type": "stream",
     "text": [
      "\n",
      "Summary statistics (all columns):\n"
     ]
    },
    {
     "data": {
      "text/html": [
       "<div>\n",
       "<style scoped>\n",
       "    .dataframe tbody tr th:only-of-type {\n",
       "        vertical-align: middle;\n",
       "    }\n",
       "\n",
       "    .dataframe tbody tr th {\n",
       "        vertical-align: top;\n",
       "    }\n",
       "\n",
       "    .dataframe thead th {\n",
       "        text-align: right;\n",
       "    }\n",
       "</style>\n",
       "<table border=\"1\" class=\"dataframe\">\n",
       "  <thead>\n",
       "    <tr style=\"text-align: right;\">\n",
       "      <th></th>\n",
       "      <th>source</th>\n",
       "      <th>id</th>\n",
       "      <th>doi</th>\n",
       "      <th>title</th>\n",
       "      <th>abstract</th>\n",
       "      <th>authors</th>\n",
       "      <th>published</th>\n",
       "      <th>pdf_url</th>\n",
       "      <th>topics</th>\n",
       "      <th>journal</th>\n",
       "      <th>assigned_sectors</th>\n",
       "      <th>provenance_sources</th>\n",
       "      <th>query_sector</th>\n",
       "    </tr>\n",
       "  </thead>\n",
       "  <tbody>\n",
       "    <tr>\n",
       "      <th>count</th>\n",
       "      <td>17136</td>\n",
       "      <td>17136</td>\n",
       "      <td>12312</td>\n",
       "      <td>17135</td>\n",
       "      <td>13509</td>\n",
       "      <td>3196</td>\n",
       "      <td>17136</td>\n",
       "      <td>7526</td>\n",
       "      <td>13903</td>\n",
       "      <td>3196</td>\n",
       "      <td>17136</td>\n",
       "      <td>17136</td>\n",
       "      <td>17136</td>\n",
       "    </tr>\n",
       "    <tr>\n",
       "      <th>unique</th>\n",
       "      <td>2</td>\n",
       "      <td>17136</td>\n",
       "      <td>12312</td>\n",
       "      <td>16926</td>\n",
       "      <td>13447</td>\n",
       "      <td>3126</td>\n",
       "      <td>8211</td>\n",
       "      <td>7473</td>\n",
       "      <td>10295</td>\n",
       "      <td>1</td>\n",
       "      <td>26</td>\n",
       "      <td>2</td>\n",
       "      <td>14</td>\n",
       "    </tr>\n",
       "    <tr>\n",
       "      <th>top</th>\n",
       "      <td>openalex</td>\n",
       "      <td>http://arxiv.org/abs/1611.02307v2</td>\n",
       "      <td>https://doi.org/10.4324/9781315745749-39</td>\n",
       "      <td>Veterinary Medicine and Human Health</td>\n",
       "      <td>Our website uses cookies to enhance your exper...</td>\n",
       "      <td>Brian P. Hanley</td>\n",
       "      <td>2020-01-01</td>\n",
       "      <td>https://pq-static-content.proquest.com/collate...</td>\n",
       "      <td>Child Nutrition and Water Access</td>\n",
       "      <td>arXiv</td>\n",
       "      <td>Mining</td>\n",
       "      <td>openalex</td>\n",
       "      <td>Mining</td>\n",
       "    </tr>\n",
       "    <tr>\n",
       "      <th>freq</th>\n",
       "      <td>13940</td>\n",
       "      <td>1</td>\n",
       "      <td>1</td>\n",
       "      <td>3</td>\n",
       "      <td>12</td>\n",
       "      <td>5</td>\n",
       "      <td>121</td>\n",
       "      <td>4</td>\n",
       "      <td>95</td>\n",
       "      <td>3196</td>\n",
       "      <td>1249</td>\n",
       "      <td>13940</td>\n",
       "      <td>1250</td>\n",
       "    </tr>\n",
       "  </tbody>\n",
       "</table>\n",
       "</div>"
      ],
      "text/plain": [
       "          source                                 id  \\\n",
       "count      17136                              17136   \n",
       "unique         2                              17136   \n",
       "top     openalex  http://arxiv.org/abs/1611.02307v2   \n",
       "freq       13940                                  1   \n",
       "\n",
       "                                             doi  \\\n",
       "count                                      12312   \n",
       "unique                                     12312   \n",
       "top     https://doi.org/10.4324/9781315745749-39   \n",
       "freq                                           1   \n",
       "\n",
       "                                       title  \\\n",
       "count                                  17135   \n",
       "unique                                 16926   \n",
       "top     Veterinary Medicine and Human Health   \n",
       "freq                                       3   \n",
       "\n",
       "                                                 abstract          authors  \\\n",
       "count                                               13509             3196   \n",
       "unique                                              13447             3126   \n",
       "top     Our website uses cookies to enhance your exper...  Brian P. Hanley   \n",
       "freq                                                   12                5   \n",
       "\n",
       "         published                                            pdf_url  \\\n",
       "count        17136                                               7526   \n",
       "unique        8211                                               7473   \n",
       "top     2020-01-01  https://pq-static-content.proquest.com/collate...   \n",
       "freq           121                                                  4   \n",
       "\n",
       "                                  topics journal assigned_sectors  \\\n",
       "count                              13903    3196            17136   \n",
       "unique                             10295       1               26   \n",
       "top     Child Nutrition and Water Access   arXiv           Mining   \n",
       "freq                                  95    3196             1249   \n",
       "\n",
       "       provenance_sources query_sector  \n",
       "count               17136        17136  \n",
       "unique                  2           14  \n",
       "top              openalex       Mining  \n",
       "freq                13940         1250  "
      ]
     },
     "metadata": {},
     "output_type": "display_data"
    }
   ],
   "source": [
    "\n",
    "print(\"\\nSummary statistics (all columns):\")\n",
    "display(df.describe(include=\"all\"))"
   ]
  },
  {
   "cell_type": "markdown",
   "id": "957d52e9",
   "metadata": {},
   "source": [
    "The code above generates descriptive statistics for both numeric and categorical columns."
   ]
  },
  {
   "cell_type": "code",
   "execution_count": 13,
   "id": "a5956a0e",
   "metadata": {
    "ExecuteTime": {
     "end_time": "2025-08-20T09:40:08.916570Z",
     "start_time": "2025-08-20T09:40:08.878979Z"
    }
   },
   "outputs": [
    {
     "name": "stdout",
     "output_type": "stream",
     "text": [
      "\n",
      "Shape (rows, columns): (17136, 13)\n",
      "\n",
      "Missing values per column:\n",
      "source                    0\n",
      "id                        0\n",
      "doi                    4824\n",
      "title                     1\n",
      "abstract               3627\n",
      "authors               13940\n",
      "published                 0\n",
      "pdf_url                9610\n",
      "topics                 3233\n",
      "journal               13940\n",
      "assigned_sectors          0\n",
      "provenance_sources        0\n",
      "query_sector              0\n",
      "dtype: int64\n"
     ]
    }
   ],
   "source": [
    "print(\"\\nShape (rows, columns):\", df.shape)\n",
    "\n",
    "print(\"\\nMissing values per column:\")\n",
    "print(df.isnull().sum())"
   ]
  },
  {
   "cell_type": "markdown",
   "id": "0c2b31b1",
   "metadata": {},
   "source": [
    "The code above first prints the dataset’s overall dimensions (rows and columns) using df.shape. Then it shows how many missing values each column contains by running df.isnull().sum()."
   ]
  },
  {
   "cell_type": "code",
   "execution_count": 14,
   "id": "1919c921",
   "metadata": {
    "ExecuteTime": {
     "end_time": "2025-08-20T09:40:48.279860Z",
     "start_time": "2025-08-20T09:40:47.330030Z"
    }
   },
   "outputs": [
    {
     "data": {
      "image/png": "[encoded data removed]",
      "text/plain": [
       "<Figure size 1000x500 with 2 Axes>"
      ]
     },
     "metadata": {},
     "output_type": "display_data"
    },
    {
     "name": "stdout",
     "output_type": "stream",
     "text": [
      "Missing data rates (%):\n"
     ]
    },
    {
     "data": {
      "image/png": "[encoded data removed]",
      "text/plain": [
       "<Figure size 1000x500 with 1 Axes>"
      ]
     },
     "metadata": {},
     "output_type": "display_data"
    }
   ],
   "source": [
    "\n",
    "# --- Create derived length columns ---\n",
    "df[\"title_length\"] = df[\"title\"].fillna(\"\").apply(len)\n",
    "df[\"abstract_length\"] = df[\"abstract\"].fillna(\"\").apply(len)\n",
    "\n",
    "# --- Plot histograms ---\n",
    "df[[\"title_length\", \"abstract_length\"]].hist(\n",
    "    figsize=(10, 5), bins=30, edgecolor=\"black\"\n",
    ")\n",
    "plt.suptitle(\"Distribution of Title and Abstract Lengths\", fontsize=14)\n",
    "plt.show()\n",
    "\n",
    "# Missing rate per column (in %)\n",
    "missing_rates = df.isnull().mean().sort_values(ascending=False) * 100\n",
    "\n",
    "print(\"Missing data rates (%):\")\n",
    "\n",
    "# Plot as bar chart\n",
    "plt.figure(figsize=(10,5))\n",
    "missing_rates.plot(kind=\"bar\", edgecolor=\"black\")\n",
    "plt.title(\"Missing Data Percentage by Column\", fontsize=14)\n",
    "plt.ylabel(\"Percentage (%)\")\n",
    "plt.xticks(rotation=45, ha=\"right\")\n",
    "plt.show()\n"
   ]
  },
  {
   "cell_type": "markdown",
   "id": "130ca345",
   "metadata": {},
   "source": [
    "### Dataset Summary\n",
    "\n",
    "The dataset has **17,136 rows × 13 columns** of academic publication metadata.\n",
    "\n",
    "#### Observations\n",
    "\n",
    "- **Data types**:  \n",
    "  All columns are text. `published` should be converted to `datetime` for trend analysis.  \n",
    "\n",
    "- **Missing data**:  \n",
    "  - `authors`: 81% missing  \n",
    "  - `journal`: 81% missing  \n",
    "  - `abstract`: 21% missing  \n",
    "  - `doi`: 28% missing  \n",
    "  - `pdf_url`: 56% missing  \n",
    "  - Other fields: complete  \n",
    "\n",
    "- **Uniqueness**:  \n",
    "  - `id` is unique (usable as primary key)  \n",
    "  - Titles are mostly unique (99%)  \n",
    "\n",
    "- **Distributions**:  \n",
    "  - `source` dominated by **openalex** (81%)  \n",
    "  - `assigned_sectors` has 26 categories, with **Mining** and **Agriculture** frequent  \n",
    "  - Publication years span **1994–2020+**  \n",
    "\n",
    "#### Interpretation\n",
    "\n",
    "The dataset is **large and well-structured**, but metadata gaps (authors, journals, abstracts) limit certain analyses.  \n",
    "Strong identifiers (`id`, `topics`, `assigned_sectors`) support sectoral and thematic exploration.  \n",
    "Preprocessing (handling missingness, normalizing dates) is needed for deeper analysis.\n"
   ]
  },
  {
   "cell_type": "markdown",
   "id": "57c5fa1c4ab81797",
   "metadata": {},
   "source": [
    "## Data Preparation"
   ]
  },
  {
   "cell_type": "markdown",
   "id": "bb81dfd4",
   "metadata": {},
   "source": [
    " \n",
    "Data preparation is a critical step in ensuring that the UNZA journal articles can be effectively used for machine learning classification and analysis. In this stage, the raw data consisting of titles, abstracts, and keywords will be cleaned by removing duplicates, special characters, and irrelevant words, while also being standardized through tokenization, stopword removal, and lemmatization. The processed text will then be transformed into numerical features using techniques such as TF-IDF, and the Zambia Vision 2030 sector labels will be encoded into machine-readable form. Finally, the dataset will be split into training, validation, and test subsets to ensure reliable model evaluation. This process will create a consistent and reliable dataset to support accurate classification of research articles into Zambia’s Vision 2030 development sectors.  \n"
   ]
  },
  {
   "cell_type": "code",
   "execution_count": 15,
   "id": "75a9cbe173f78b26",
   "metadata": {
    "ExecuteTime": {
     "end_time": "2025-08-20T09:51:08.075833Z",
     "start_time": "2025-08-20T09:51:07.546275Z"
    }
   },
   "outputs": [],
   "source": [
    "# Import necessary libraries\n",
    "import pandas as pd\n",
    "import numpy as np\n",
    "import re\n",
    "from sklearn.preprocessing import LabelEncoder\n",
    "from sklearn.feature_extraction.text import TfidfVectorizer\n",
    "import nltk\n",
    "from nltk.corpus import stopwords\n",
    "from nltk.stem import WordNetLemmatizer\n",
    "import matplotlib.pyplot as plt\n",
    "import seaborn as sns"
   ]
  },
  {
   "cell_type": "markdown",
   "id": "aeeacbf0",
   "metadata": {},
   "source": [
    "The code above imports libraries for **data handling, text preprocessing, and visualization**.\n",
    "\n",
    "- **pandas (`pd`)** – Work with tabular data (DataFrames).  \n",
    "- **numpy (`np`)** – Numerical computations, arrays, math functions.  \n",
    "- **re** – Regular expressions for text cleaning and pattern matching.  \n",
    "\n",
    " Machine Learning & NLP\n",
    "- **LabelEncoder** – Convert categorical labels into numeric values.  \n",
    "- **TfidfVectorizer** – Transform text into TF-IDF features for ML/NLP.  \n",
    "- **nltk** – NLP toolkit.  \n",
    "  - `stopwords` – Common words to remove from text.  \n",
    "  - `WordNetLemmatizer` – Reduce words to their base form (e.g., \"running\" → \"run\").  \n",
    "\n",
    " Visualization\n",
    "- **matplotlib (`plt`)** – Create plots and charts.  \n",
    "- **seaborn (`sns`)** – Statistical, more aesthetic visualizations. "
   ]
  },
  {
   "cell_type": "markdown",
   "id": "e57c079b",
   "metadata": {},
   "source": []
  },
  {
   "cell_type": "code",
   "execution_count": 16,
   "id": "5e31e9798d403e0c",
   "metadata": {
    "ExecuteTime": {
     "end_time": "2025-08-20T09:55:16.731603Z",
     "start_time": "2025-08-20T09:55:16.710649Z"
    }
   },
   "outputs": [
    {
     "name": "stderr",
     "output_type": "stream",
     "text": [
      "[nltk_data] Downloading package stopwords to\n",
      "[nltk_data]     C:\\Users\\kangw\\AppData\\Roaming\\nltk_data...\n",
      "[nltk_data]   Unzipping corpora\\stopwords.zip.\n",
      "[nltk_data] Downloading package wordnet to\n",
      "[nltk_data]     C:\\Users\\kangw\\AppData\\Roaming\\nltk_data...\n",
      "[nltk_data] Downloading package punkt to\n",
      "[nltk_data]     C:\\Users\\kangw\\AppData\\Roaming\\nltk_data...\n",
      "[nltk_data]   Unzipping tokenizers\\punkt.zip.\n"
     ]
    },
    {
     "data": {
      "text/plain": [
       "True"
      ]
     },
     "execution_count": 16,
     "metadata": {},
     "output_type": "execute_result"
    }
   ],
   "source": [
    "nltk.download('stopwords')\n",
    "nltk.download('wordnet')\n",
    "nltk.download('punkt')"
   ]
  },
  {
   "cell_type": "code",
   "execution_count": 17,
   "id": "f36266a7476e80f1",
   "metadata": {
    "ExecuteTime": {
     "end_time": "2025-08-20T09:56:32.906429Z",
     "start_time": "2025-08-20T09:56:32.800033Z"
    }
   },
   "outputs": [
    {
     "name": "stdout",
     "output_type": "stream",
     "text": [
      "Missing Value Percentage:\n",
      " source                 0.000000\n",
      "id                     0.000000\n",
      "doi                   28.151261\n",
      "title                  0.005836\n",
      "abstract              21.165966\n",
      "authors               81.349206\n",
      "published              0.000000\n",
      "pdf_url               56.080766\n",
      "topics                18.866713\n",
      "journal               81.349206\n",
      "assigned_sectors       0.000000\n",
      "provenance_sources     0.000000\n",
      "query_sector           0.000000\n",
      "dtype: float64\n",
      "\n",
      "Missing values after treatment:\n",
      " source                   0\n",
      "id                       0\n",
      "doi                   4824\n",
      "title                    0\n",
      "abstract                 0\n",
      "authors                  0\n",
      "published             3196\n",
      "pdf_url               9610\n",
      "topics                   0\n",
      "journal                  0\n",
      "assigned_sectors         0\n",
      "provenance_sources       0\n",
      "query_sector             0\n",
      "published_year           0\n",
      "dtype: int64\n"
     ]
    }
   ],
   "source": [
    "# Load the dataset\n",
    "df = pd.read_csv('../data/vision2030_corpus.csv')\n",
    "\n",
    "# Check the percentage of missing values for each column\n",
    "missing_percentage = (df.isnull().sum() / len(df)) * 100\n",
    "print(\"Missing Value Percentage:\\n\", missing_percentage)\n",
    "\n",
    "# For text columns, we'll fill missing values with empty strings\n",
    "text_columns = ['title', 'abstract', 'authors']\n",
    "for col in text_columns:\n",
    "    if col in df.columns:\n",
    "        df.fillna({col: ''}, inplace=True)\n",
    "\n",
    "# For categorical columns, we'll fill with 'Unknown'\n",
    "categorical_columns = ['journal', 'topics', 'provenance_sources']\n",
    "for col in categorical_columns:\n",
    "    if col in df.columns:\n",
    "        df.fillna({col: 'Unknown'}, inplace=True)\n",
    "\n",
    "# For published date, we'll extract year and handle missing values\n",
    "df['published'] = pd.to_datetime(df['published'], errors='coerce')\n",
    "df['published_year'] = df['published'].dt.year\n",
    "df.fillna({'published_year': df['published_year'].median()}, inplace=True)\n",
    "\n",
    "print(\"\\nMissing values after treatment:\\n\", df.isnull().sum())"
   ]
  },
  {
   "cell_type": "code",
   "execution_count": 18,
   "id": "f217675c",
   "metadata": {},
   "outputs": [
    {
     "name": "stdout",
     "output_type": "stream",
     "text": [
      "Text preprocessing completed. Sample processed text:\n",
      "pesticide sprayer knowledge attitude practice pesticide use agricultural farm ethiopia pesticide sprayer five stateowned agricultural farm took part study evaluated knowledge attitude practice pestici...\n"
     ]
    }
   ],
   "source": [
    "# Initialize text preprocessing tools\n",
    "stop_words = set(stopwords.words('english'))\n",
    "lemmatizer = WordNetLemmatizer()\n",
    "\n",
    "def preprocess_text(text):\n",
    "    \"\"\"\n",
    "    Clean and preprocess text data\n",
    "    \"\"\"\n",
    "    if not isinstance(text, str):\n",
    "        return \"\"\n",
    "    \n",
    "    # Convert to lowercase\n",
    "    text = text.lower()\n",
    "    \n",
    "    # Remove special characters and digits\n",
    "    text = re.sub(r'[^a-zA-Z\\s]', '', text)\n",
    "    \n",
    "    # Tokenize\n",
    "    tokens = text.split()\n",
    "    \n",
    "    # Remove stopwords and lemmatize\n",
    "    tokens = [lemmatizer.lemmatize(word) for word in tokens if word not in stop_words and len(word) > 2]\n",
    "    \n",
    "    return ' '.join(tokens)\n",
    "\n",
    "# Apply text preprocessing to title and abstract\n",
    "df['processed_title'] = df['title'].apply(preprocess_text)\n",
    "df['processed_abstract'] = df['abstract'].apply(preprocess_text)\n",
    "\n",
    "# Combine title and abstract for comprehensive text features\n",
    "df['combined_text'] = df['processed_title'] + ' ' + df['processed_abstract']\n",
    "\n",
    "print(\"Text preprocessing completed. Sample processed text:\")\n",
    "print(df['combined_text'].iloc[0][:200] + \"...\")"
   ]
  },
  {
   "cell_type": "code",
   "execution_count": 19,
   "id": "0bc3494d",
   "metadata": {},
   "outputs": [
    {
     "name": "stdout",
     "output_type": "stream",
     "text": [
      "Feature engineering completed. New features created:\n"
     ]
    },
    {
     "data": {
      "text/html": [
       "<div>\n",
       "<style scoped>\n",
       "    .dataframe tbody tr th:only-of-type {\n",
       "        vertical-align: middle;\n",
       "    }\n",
       "\n",
       "    .dataframe tbody tr th {\n",
       "        vertical-align: top;\n",
       "    }\n",
       "\n",
       "    .dataframe thead th {\n",
       "        text-align: right;\n",
       "    }\n",
       "</style>\n",
       "<table border=\"1\" class=\"dataframe\">\n",
       "  <thead>\n",
       "    <tr style=\"text-align: right;\">\n",
       "      <th></th>\n",
       "      <th>title_length</th>\n",
       "      <th>abstract_length</th>\n",
       "      <th>main_topic</th>\n",
       "      <th>publication_decade</th>\n",
       "      <th>has_doi</th>\n",
       "      <th>has_pdf</th>\n",
       "    </tr>\n",
       "  </thead>\n",
       "  <tbody>\n",
       "    <tr>\n",
       "      <th>0</th>\n",
       "      <td>14</td>\n",
       "      <td>231</td>\n",
       "      <td>Pesticide Exposure and Toxicity</td>\n",
       "      <td>2000</td>\n",
       "      <td>1</td>\n",
       "      <td>1</td>\n",
       "    </tr>\n",
       "    <tr>\n",
       "      <th>1</th>\n",
       "      <td>9</td>\n",
       "      <td>280</td>\n",
       "      <td>Agricultural risk and resilience</td>\n",
       "      <td>2010</td>\n",
       "      <td>1</td>\n",
       "      <td>0</td>\n",
       "    </tr>\n",
       "    <tr>\n",
       "      <th>2</th>\n",
       "      <td>12</td>\n",
       "      <td>107</td>\n",
       "      <td>Agriculture Sustainability and Environmental I...</td>\n",
       "      <td>2010</td>\n",
       "      <td>1</td>\n",
       "      <td>1</td>\n",
       "    </tr>\n",
       "    <tr>\n",
       "      <th>3</th>\n",
       "      <td>11</td>\n",
       "      <td>90</td>\n",
       "      <td>Agriculture, Land Use, Rural Development</td>\n",
       "      <td>1990</td>\n",
       "      <td>1</td>\n",
       "      <td>0</td>\n",
       "    </tr>\n",
       "    <tr>\n",
       "      <th>4</th>\n",
       "      <td>13</td>\n",
       "      <td>0</td>\n",
       "      <td>Economic Growth and Productivity</td>\n",
       "      <td>2010</td>\n",
       "      <td>1</td>\n",
       "      <td>0</td>\n",
       "    </tr>\n",
       "  </tbody>\n",
       "</table>\n",
       "</div>"
      ],
      "text/plain": [
       "   title_length  abstract_length  \\\n",
       "0            14              231   \n",
       "1             9              280   \n",
       "2            12              107   \n",
       "3            11               90   \n",
       "4            13                0   \n",
       "\n",
       "                                          main_topic  publication_decade  \\\n",
       "0                    Pesticide Exposure and Toxicity                2000   \n",
       "1                   Agricultural risk and resilience                2010   \n",
       "2  Agriculture Sustainability and Environmental I...                2010   \n",
       "3           Agriculture, Land Use, Rural Development                1990   \n",
       "4                   Economic Growth and Productivity                2010   \n",
       "\n",
       "   has_doi  has_pdf  \n",
       "0        1        1  \n",
       "1        1        0  \n",
       "2        1        1  \n",
       "3        1        0  \n",
       "4        1        0  "
      ]
     },
     "metadata": {},
     "output_type": "display_data"
    }
   ],
   "source": [
    "# Create text-based features\n",
    "df['title_length'] = df['title'].apply(lambda x: len(str(x).split()))\n",
    "df['abstract_length'] = df['abstract'].apply(lambda x: len(str(x).split()))\n",
    "df['total_text_length'] = df['title_length'] + df['abstract_length']\n",
    "\n",
    "# Extract key topics from the topics column\n",
    "def extract_main_topic(topics_str):\n",
    "    if pd.isna(topics_str) or topics_str == 'Unknown':\n",
    "        return 'General'\n",
    "    topics_list = topics_str.split(';')\n",
    "    return topics_list[0] if topics_list else 'General'\n",
    "\n",
    "df['main_topic'] = df['topics'].apply(extract_main_topic)\n",
    "\n",
    "# Create publication decade feature\n",
    "df['publication_decade'] = ((df['published_year'] // 10) * 10).round().astype(int)\n",
    "\n",
    "# Check if paper has DOI\n",
    "df['has_doi'] = df['doi'].notna().astype(int)\n",
    "\n",
    "# Check if paper has PDF URL\n",
    "df['has_pdf'] = df['pdf_url'].notna().astype(int)\n",
    "\n",
    "print(\"Feature engineering completed. New features created:\")\n",
    "display(df[['title_length', 'abstract_length', 'main_topic', 'publication_decade', 'has_doi', 'has_pdf']].head())"
   ]
  },
  {
   "cell_type": "code",
   "execution_count": 20,
   "id": "df7d530c",
   "metadata": {},
   "outputs": [
    {
     "name": "stdout",
     "output_type": "stream",
     "text": [
      "Encoded source: 2 classes\n",
      "Encoded main_topic: 1702 classes\n",
      "Encoded journal: 2 classes\n",
      "Encoded provenance_sources: 2 classes\n",
      "Target classes: ['Agriculture' 'Education' 'Energy' 'Environment' 'Finance/Trade'\n",
      " 'Governance' 'Health' 'ICT/Technology' 'Infrastructure' 'Manufacturing'\n",
      " 'Mining' 'Tourism' 'Transport' 'Water_and_Sanitation']\n",
      "Categorical encoding completed.\n"
     ]
    }
   ],
   "source": [
    "# Encode categorical variables\n",
    "categorical_features = ['source', 'main_topic', 'journal', 'provenance_sources']\n",
    "\n",
    "# Initialize label encoders\n",
    "label_encoders = {}\n",
    "for feature in categorical_features:\n",
    "    if feature in df.columns:\n",
    "        le = LabelEncoder()\n",
    "        df[feature + '_encoded'] = le.fit_transform(df[feature].astype(str))\n",
    "        label_encoders[feature] = le\n",
    "        print(f\"Encoded {feature}: {len(le.classes_)} classes\")\n",
    "\n",
    "# For the target variable (query_sector)\n",
    "target_encoder = LabelEncoder()\n",
    "df['target_encoded'] = target_encoder.fit_transform(df['query_sector'])\n",
    "print(f\"Target classes: {target_encoder.classes_}\")\n",
    "\n",
    "# One-hot encoding for main topic (if we want to use it as features)\n",
    "topic_dummies = pd.get_dummies(df['main_topic'], prefix='topic')\n",
    "df = pd.concat([df, topic_dummies], axis=1)\n",
    "\n",
    "print(\"Categorical encoding completed.\")"
   ]
  },
  {
   "cell_type": "code",
   "execution_count": 23,
   "id": "9ef51976",
   "metadata": {},
   "outputs": [
    {
     "name": "stdout",
     "output_type": "stream",
     "text": [
      "TF-IDF matrix shape: (17136, 5000)\n",
      "Sample TF-IDF features:\n"
     ]
    },
    {
     "data": {
      "text/html": [
       "<div>\n",
       "<style scoped>\n",
       "    .dataframe tbody tr th:only-of-type {\n",
       "        vertical-align: middle;\n",
       "    }\n",
       "\n",
       "    .dataframe tbody tr th {\n",
       "        vertical-align: top;\n",
       "    }\n",
       "\n",
       "    .dataframe thead th {\n",
       "        text-align: right;\n",
       "    }\n",
       "</style>\n",
       "<table border=\"1\" class=\"dataframe\">\n",
       "  <thead>\n",
       "    <tr style=\"text-align: right;\">\n",
       "      <th></th>\n",
       "      <th>ability</th>\n",
       "      <th>abiotic</th>\n",
       "      <th>able</th>\n",
       "      <th>aboriginal</th>\n",
       "      <th>absence</th>\n",
       "      <th>absolute</th>\n",
       "      <th>absorption</th>\n",
       "      <th>abstract</th>\n",
       "      <th>abstract article</th>\n",
       "      <th>abstract background</th>\n",
       "      <th>...</th>\n",
       "      <th>york</th>\n",
       "      <th>young</th>\n",
       "      <th>young child</th>\n",
       "      <th>young people</th>\n",
       "      <th>younger</th>\n",
       "      <th>youth</th>\n",
       "      <th>zealand</th>\n",
       "      <th>zero</th>\n",
       "      <th>zimbabwe</th>\n",
       "      <th>zone</th>\n",
       "    </tr>\n",
       "  </thead>\n",
       "  <tbody>\n",
       "    <tr>\n",
       "      <th>0</th>\n",
       "      <td>0.0</td>\n",
       "      <td>0.0</td>\n",
       "      <td>0.0</td>\n",
       "      <td>0.0</td>\n",
       "      <td>0.0</td>\n",
       "      <td>0.0</td>\n",
       "      <td>0.0</td>\n",
       "      <td>0.0</td>\n",
       "      <td>0.0</td>\n",
       "      <td>0.0</td>\n",
       "      <td>...</td>\n",
       "      <td>0.0</td>\n",
       "      <td>0.0</td>\n",
       "      <td>0.0</td>\n",
       "      <td>0.0</td>\n",
       "      <td>0.0</td>\n",
       "      <td>0.0</td>\n",
       "      <td>0.0</td>\n",
       "      <td>0.0</td>\n",
       "      <td>0.0</td>\n",
       "      <td>0.0</td>\n",
       "    </tr>\n",
       "    <tr>\n",
       "      <th>1</th>\n",
       "      <td>0.0</td>\n",
       "      <td>0.0</td>\n",
       "      <td>0.0</td>\n",
       "      <td>0.0</td>\n",
       "      <td>0.0</td>\n",
       "      <td>0.0</td>\n",
       "      <td>0.0</td>\n",
       "      <td>0.0</td>\n",
       "      <td>0.0</td>\n",
       "      <td>0.0</td>\n",
       "      <td>...</td>\n",
       "      <td>0.0</td>\n",
       "      <td>0.0</td>\n",
       "      <td>0.0</td>\n",
       "      <td>0.0</td>\n",
       "      <td>0.0</td>\n",
       "      <td>0.0</td>\n",
       "      <td>0.0</td>\n",
       "      <td>0.0</td>\n",
       "      <td>0.0</td>\n",
       "      <td>0.0</td>\n",
       "    </tr>\n",
       "    <tr>\n",
       "      <th>2</th>\n",
       "      <td>0.0</td>\n",
       "      <td>0.0</td>\n",
       "      <td>0.0</td>\n",
       "      <td>0.0</td>\n",
       "      <td>0.0</td>\n",
       "      <td>0.0</td>\n",
       "      <td>0.0</td>\n",
       "      <td>0.0</td>\n",
       "      <td>0.0</td>\n",
       "      <td>0.0</td>\n",
       "      <td>...</td>\n",
       "      <td>0.0</td>\n",
       "      <td>0.0</td>\n",
       "      <td>0.0</td>\n",
       "      <td>0.0</td>\n",
       "      <td>0.0</td>\n",
       "      <td>0.0</td>\n",
       "      <td>0.0</td>\n",
       "      <td>0.0</td>\n",
       "      <td>0.0</td>\n",
       "      <td>0.0</td>\n",
       "    </tr>\n",
       "    <tr>\n",
       "      <th>3</th>\n",
       "      <td>0.0</td>\n",
       "      <td>0.0</td>\n",
       "      <td>0.0</td>\n",
       "      <td>0.0</td>\n",
       "      <td>0.0</td>\n",
       "      <td>0.0</td>\n",
       "      <td>0.0</td>\n",
       "      <td>0.0</td>\n",
       "      <td>0.0</td>\n",
       "      <td>0.0</td>\n",
       "      <td>...</td>\n",
       "      <td>0.0</td>\n",
       "      <td>0.0</td>\n",
       "      <td>0.0</td>\n",
       "      <td>0.0</td>\n",
       "      <td>0.0</td>\n",
       "      <td>0.0</td>\n",
       "      <td>0.0</td>\n",
       "      <td>0.0</td>\n",
       "      <td>0.0</td>\n",
       "      <td>0.0</td>\n",
       "    </tr>\n",
       "    <tr>\n",
       "      <th>4</th>\n",
       "      <td>0.0</td>\n",
       "      <td>0.0</td>\n",
       "      <td>0.0</td>\n",
       "      <td>0.0</td>\n",
       "      <td>0.0</td>\n",
       "      <td>0.0</td>\n",
       "      <td>0.0</td>\n",
       "      <td>0.0</td>\n",
       "      <td>0.0</td>\n",
       "      <td>0.0</td>\n",
       "      <td>...</td>\n",
       "      <td>0.0</td>\n",
       "      <td>0.0</td>\n",
       "      <td>0.0</td>\n",
       "      <td>0.0</td>\n",
       "      <td>0.0</td>\n",
       "      <td>0.0</td>\n",
       "      <td>0.0</td>\n",
       "      <td>0.0</td>\n",
       "      <td>0.0</td>\n",
       "      <td>0.0</td>\n",
       "    </tr>\n",
       "  </tbody>\n",
       "</table>\n",
       "<p>5 rows × 5000 columns</p>\n",
       "</div>"
      ],
      "text/plain": [
       "   ability  abiotic  able  aboriginal  absence  absolute  absorption  \\\n",
       "0      0.0      0.0   0.0         0.0      0.0       0.0         0.0   \n",
       "1      0.0      0.0   0.0         0.0      0.0       0.0         0.0   \n",
       "2      0.0      0.0   0.0         0.0      0.0       0.0         0.0   \n",
       "3      0.0      0.0   0.0         0.0      0.0       0.0         0.0   \n",
       "4      0.0      0.0   0.0         0.0      0.0       0.0         0.0   \n",
       "\n",
       "   abstract  abstract article  abstract background  ...  york  young  \\\n",
       "0       0.0               0.0                  0.0  ...   0.0    0.0   \n",
       "1       0.0               0.0                  0.0  ...   0.0    0.0   \n",
       "2       0.0               0.0                  0.0  ...   0.0    0.0   \n",
       "3       0.0               0.0                  0.0  ...   0.0    0.0   \n",
       "4       0.0               0.0                  0.0  ...   0.0    0.0   \n",
       "\n",
       "   young child  young people  younger  youth  zealand  zero  zimbabwe  zone  \n",
       "0          0.0           0.0      0.0    0.0      0.0   0.0       0.0   0.0  \n",
       "1          0.0           0.0      0.0    0.0      0.0   0.0       0.0   0.0  \n",
       "2          0.0           0.0      0.0    0.0      0.0   0.0       0.0   0.0  \n",
       "3          0.0           0.0      0.0    0.0      0.0   0.0       0.0   0.0  \n",
       "4          0.0           0.0      0.0    0.0      0.0   0.0       0.0   0.0  \n",
       "\n",
       "[5 rows x 5000 columns]"
      ]
     },
     "metadata": {},
     "output_type": "display_data"
    }
   ],
   "source": [
    "# TF-IDF Vectorization for text data\n",
    "tfidf_vectorizer = TfidfVectorizer(\n",
    "    max_features=5000,  # Limit features to manage dimensionality\n",
    "    min_df=2,           # Ignore terms that appear in less than 2 documents\n",
    "    max_df=0.8,         # Ignore terms that appear in more than 80% of documents\n",
    "    ngram_range=(1, 2)  # Consider unigrams and bigrams\n",
    ")\n",
    "\n",
    "# Fit and transform the combined text\n",
    "tfidf_matrix = tfidf_vectorizer.fit_transform(df['combined_text'])\n",
    "tfidf_features = pd.DataFrame(tfidf_matrix.toarray(), \n",
    "                             columns=tfidf_vectorizer.get_feature_names_out())\n",
    "\n",
    "print(f\"TF-IDF matrix shape: {tfidf_matrix.shape}\")\n",
    "print(\"Sample TF-IDF features:\")\n",
    "display(tfidf_features.head())  # First 5 features of first document"
   ]
  },
  {
   "cell_type": "code",
   "execution_count": 24,
   "id": "698ce0f0",
   "metadata": {},
   "outputs": [
    {
     "name": "stdout",
     "output_type": "stream",
     "text": [
      "Final feature matrix shape: (17136, 6712)\n",
      "Target variable shape: (17136,)\n"
     ]
    },
    {
     "ename": "FileNotFoundError",
     "evalue": "[Errno 2] No such file or directory: '../data/processed_features.csv'",
     "output_type": "error",
     "traceback": [
      "\u001b[1;31m---------------------------------------------------------------------------\u001b[0m",
      "\u001b[1;31mFileNotFoundError\u001b[0m                         Traceback (most recent call last)",
      "Cell \u001b[1;32mIn[24], line 35\u001b[0m\n\u001b[0;32m     32\u001b[0m \u001b[38;5;28mprint\u001b[39m(\u001b[38;5;124mf\u001b[39m\u001b[38;5;124m\"\u001b[39m\u001b[38;5;124mTarget variable shape: \u001b[39m\u001b[38;5;132;01m{\u001b[39;00mtarget\u001b[38;5;241m.\u001b[39mshape\u001b[38;5;132;01m}\u001b[39;00m\u001b[38;5;124m\"\u001b[39m)\n\u001b[0;32m     34\u001b[0m \u001b[38;5;66;03m# Save the processed data\u001b[39;00m\n\u001b[1;32m---> 35\u001b[0m \u001b[43mfinal_features\u001b[49m\u001b[38;5;241;43m.\u001b[39;49m\u001b[43mto_csv\u001b[49m\u001b[43m(\u001b[49m\u001b[38;5;124;43m'\u001b[39;49m\u001b[38;5;124;43m../data/processed_features.csv\u001b[39;49m\u001b[38;5;124;43m'\u001b[39;49m\u001b[43m,\u001b[49m\u001b[43m \u001b[49m\u001b[43mindex\u001b[49m\u001b[38;5;241;43m=\u001b[39;49m\u001b[38;5;28;43;01mFalse\u001b[39;49;00m\u001b[43m)\u001b[49m\n\u001b[0;32m     36\u001b[0m target\u001b[38;5;241m.\u001b[39mto_csv(\u001b[38;5;124m'\u001b[39m\u001b[38;5;124m../data/target.csv\u001b[39m\u001b[38;5;124m'\u001b[39m, index\u001b[38;5;241m=\u001b[39m\u001b[38;5;28;01mFalse\u001b[39;00m)\n\u001b[0;32m     37\u001b[0m df\u001b[38;5;241m.\u001b[39mto_csv(\u001b[38;5;124m'\u001b[39m\u001b[38;5;124m../data/cleaned_dataset.csv\u001b[39m\u001b[38;5;124m'\u001b[39m, index\u001b[38;5;241m=\u001b[39m\u001b[38;5;28;01mFalse\u001b[39;00m)\n",
      "File \u001b[1;32mc:\\Users\\kangw\\Documents\\CSC_4792\\AcademicJournalClassifier\\venv\\lib\\site-packages\\pandas\\util\\_decorators.py:333\u001b[0m, in \u001b[0;36mdeprecate_nonkeyword_arguments.<locals>.decorate.<locals>.wrapper\u001b[1;34m(*args, **kwargs)\u001b[0m\n\u001b[0;32m    327\u001b[0m \u001b[38;5;28;01mif\u001b[39;00m \u001b[38;5;28mlen\u001b[39m(args) \u001b[38;5;241m>\u001b[39m num_allow_args:\n\u001b[0;32m    328\u001b[0m     warnings\u001b[38;5;241m.\u001b[39mwarn(\n\u001b[0;32m    329\u001b[0m         msg\u001b[38;5;241m.\u001b[39mformat(arguments\u001b[38;5;241m=\u001b[39m_format_argument_list(allow_args)),\n\u001b[0;32m    330\u001b[0m         \u001b[38;5;167;01mFutureWarning\u001b[39;00m,\n\u001b[0;32m    331\u001b[0m         stacklevel\u001b[38;5;241m=\u001b[39mfind_stack_level(),\n\u001b[0;32m    332\u001b[0m     )\n\u001b[1;32m--> 333\u001b[0m \u001b[38;5;28;01mreturn\u001b[39;00m func(\u001b[38;5;241m*\u001b[39margs, \u001b[38;5;241m*\u001b[39m\u001b[38;5;241m*\u001b[39mkwargs)\n",
      "File \u001b[1;32mc:\\Users\\kangw\\Documents\\CSC_4792\\AcademicJournalClassifier\\venv\\lib\\site-packages\\pandas\\core\\generic.py:3986\u001b[0m, in \u001b[0;36mNDFrame.to_csv\u001b[1;34m(self, path_or_buf, sep, na_rep, float_format, columns, header, index, index_label, mode, encoding, compression, quoting, quotechar, lineterminator, chunksize, date_format, doublequote, escapechar, decimal, errors, storage_options)\u001b[0m\n\u001b[0;32m   3975\u001b[0m df \u001b[38;5;241m=\u001b[39m \u001b[38;5;28mself\u001b[39m \u001b[38;5;28;01mif\u001b[39;00m \u001b[38;5;28misinstance\u001b[39m(\u001b[38;5;28mself\u001b[39m, ABCDataFrame) \u001b[38;5;28;01melse\u001b[39;00m \u001b[38;5;28mself\u001b[39m\u001b[38;5;241m.\u001b[39mto_frame()\n\u001b[0;32m   3977\u001b[0m formatter \u001b[38;5;241m=\u001b[39m DataFrameFormatter(\n\u001b[0;32m   3978\u001b[0m     frame\u001b[38;5;241m=\u001b[39mdf,\n\u001b[0;32m   3979\u001b[0m     header\u001b[38;5;241m=\u001b[39mheader,\n\u001b[1;32m   (...)\u001b[0m\n\u001b[0;32m   3983\u001b[0m     decimal\u001b[38;5;241m=\u001b[39mdecimal,\n\u001b[0;32m   3984\u001b[0m )\n\u001b[1;32m-> 3986\u001b[0m \u001b[38;5;28;01mreturn\u001b[39;00m \u001b[43mDataFrameRenderer\u001b[49m\u001b[43m(\u001b[49m\u001b[43mformatter\u001b[49m\u001b[43m)\u001b[49m\u001b[38;5;241;43m.\u001b[39;49m\u001b[43mto_csv\u001b[49m\u001b[43m(\u001b[49m\n\u001b[0;32m   3987\u001b[0m \u001b[43m    \u001b[49m\u001b[43mpath_or_buf\u001b[49m\u001b[43m,\u001b[49m\n\u001b[0;32m   3988\u001b[0m \u001b[43m    \u001b[49m\u001b[43mlineterminator\u001b[49m\u001b[38;5;241;43m=\u001b[39;49m\u001b[43mlineterminator\u001b[49m\u001b[43m,\u001b[49m\n\u001b[0;32m   3989\u001b[0m \u001b[43m    \u001b[49m\u001b[43msep\u001b[49m\u001b[38;5;241;43m=\u001b[39;49m\u001b[43msep\u001b[49m\u001b[43m,\u001b[49m\n\u001b[0;32m   3990\u001b[0m \u001b[43m    \u001b[49m\u001b[43mencoding\u001b[49m\u001b[38;5;241;43m=\u001b[39;49m\u001b[43mencoding\u001b[49m\u001b[43m,\u001b[49m\n\u001b[0;32m   3991\u001b[0m \u001b[43m    \u001b[49m\u001b[43merrors\u001b[49m\u001b[38;5;241;43m=\u001b[39;49m\u001b[43merrors\u001b[49m\u001b[43m,\u001b[49m\n\u001b[0;32m   3992\u001b[0m \u001b[43m    \u001b[49m\u001b[43mcompression\u001b[49m\u001b[38;5;241;43m=\u001b[39;49m\u001b[43mcompression\u001b[49m\u001b[43m,\u001b[49m\n\u001b[0;32m   3993\u001b[0m \u001b[43m    \u001b[49m\u001b[43mquoting\u001b[49m\u001b[38;5;241;43m=\u001b[39;49m\u001b[43mquoting\u001b[49m\u001b[43m,\u001b[49m\n\u001b[0;32m   3994\u001b[0m \u001b[43m    \u001b[49m\u001b[43mcolumns\u001b[49m\u001b[38;5;241;43m=\u001b[39;49m\u001b[43mcolumns\u001b[49m\u001b[43m,\u001b[49m\n\u001b[0;32m   3995\u001b[0m \u001b[43m    \u001b[49m\u001b[43mindex_label\u001b[49m\u001b[38;5;241;43m=\u001b[39;49m\u001b[43mindex_label\u001b[49m\u001b[43m,\u001b[49m\n\u001b[0;32m   3996\u001b[0m \u001b[43m    \u001b[49m\u001b[43mmode\u001b[49m\u001b[38;5;241;43m=\u001b[39;49m\u001b[43mmode\u001b[49m\u001b[43m,\u001b[49m\n\u001b[0;32m   3997\u001b[0m \u001b[43m    \u001b[49m\u001b[43mchunksize\u001b[49m\u001b[38;5;241;43m=\u001b[39;49m\u001b[43mchunksize\u001b[49m\u001b[43m,\u001b[49m\n\u001b[0;32m   3998\u001b[0m \u001b[43m    \u001b[49m\u001b[43mquotechar\u001b[49m\u001b[38;5;241;43m=\u001b[39;49m\u001b[43mquotechar\u001b[49m\u001b[43m,\u001b[49m\n\u001b[0;32m   3999\u001b[0m \u001b[43m    \u001b[49m\u001b[43mdate_format\u001b[49m\u001b[38;5;241;43m=\u001b[39;49m\u001b[43mdate_format\u001b[49m\u001b[43m,\u001b[49m\n\u001b[0;32m   4000\u001b[0m \u001b[43m    \u001b[49m\u001b[43mdoublequote\u001b[49m\u001b[38;5;241;43m=\u001b[39;49m\u001b[43mdoublequote\u001b[49m\u001b[43m,\u001b[49m\n\u001b[0;32m   4001\u001b[0m \u001b[43m    \u001b[49m\u001b[43mescapechar\u001b[49m\u001b[38;5;241;43m=\u001b[39;49m\u001b[43mescapechar\u001b[49m\u001b[43m,\u001b[49m\n\u001b[0;32m   4002\u001b[0m \u001b[43m    \u001b[49m\u001b[43mstorage_options\u001b[49m\u001b[38;5;241;43m=\u001b[39;49m\u001b[43mstorage_options\u001b[49m\u001b[43m,\u001b[49m\n\u001b[0;32m   4003\u001b[0m \u001b[43m\u001b[49m\u001b[43m)\u001b[49m\n",
      "File \u001b[1;32mc:\\Users\\kangw\\Documents\\CSC_4792\\AcademicJournalClassifier\\venv\\lib\\site-packages\\pandas\\io\\formats\\format.py:1014\u001b[0m, in \u001b[0;36mDataFrameRenderer.to_csv\u001b[1;34m(self, path_or_buf, encoding, sep, columns, index_label, mode, compression, quoting, quotechar, lineterminator, chunksize, date_format, doublequote, escapechar, errors, storage_options)\u001b[0m\n\u001b[0;32m    993\u001b[0m     created_buffer \u001b[38;5;241m=\u001b[39m \u001b[38;5;28;01mFalse\u001b[39;00m\n\u001b[0;32m    995\u001b[0m csv_formatter \u001b[38;5;241m=\u001b[39m CSVFormatter(\n\u001b[0;32m    996\u001b[0m     path_or_buf\u001b[38;5;241m=\u001b[39mpath_or_buf,\n\u001b[0;32m    997\u001b[0m     lineterminator\u001b[38;5;241m=\u001b[39mlineterminator,\n\u001b[1;32m   (...)\u001b[0m\n\u001b[0;32m   1012\u001b[0m     formatter\u001b[38;5;241m=\u001b[39m\u001b[38;5;28mself\u001b[39m\u001b[38;5;241m.\u001b[39mfmt,\n\u001b[0;32m   1013\u001b[0m )\n\u001b[1;32m-> 1014\u001b[0m \u001b[43mcsv_formatter\u001b[49m\u001b[38;5;241;43m.\u001b[39;49m\u001b[43msave\u001b[49m\u001b[43m(\u001b[49m\u001b[43m)\u001b[49m\n\u001b[0;32m   1016\u001b[0m \u001b[38;5;28;01mif\u001b[39;00m created_buffer:\n\u001b[0;32m   1017\u001b[0m     \u001b[38;5;28;01massert\u001b[39;00m \u001b[38;5;28misinstance\u001b[39m(path_or_buf, StringIO)\n",
      "File \u001b[1;32mc:\\Users\\kangw\\Documents\\CSC_4792\\AcademicJournalClassifier\\venv\\lib\\site-packages\\pandas\\io\\formats\\csvs.py:251\u001b[0m, in \u001b[0;36mCSVFormatter.save\u001b[1;34m(self)\u001b[0m\n\u001b[0;32m    247\u001b[0m \u001b[38;5;250m\u001b[39m\u001b[38;5;124;03m\"\"\"\u001b[39;00m\n\u001b[0;32m    248\u001b[0m \u001b[38;5;124;03mCreate the writer & save.\u001b[39;00m\n\u001b[0;32m    249\u001b[0m \u001b[38;5;124;03m\"\"\"\u001b[39;00m\n\u001b[0;32m    250\u001b[0m \u001b[38;5;66;03m# apply compression and byte/text conversion\u001b[39;00m\n\u001b[1;32m--> 251\u001b[0m \u001b[38;5;28;01mwith\u001b[39;00m \u001b[43mget_handle\u001b[49m\u001b[43m(\u001b[49m\n\u001b[0;32m    252\u001b[0m \u001b[43m    \u001b[49m\u001b[38;5;28;43mself\u001b[39;49m\u001b[38;5;241;43m.\u001b[39;49m\u001b[43mfilepath_or_buffer\u001b[49m\u001b[43m,\u001b[49m\n\u001b[0;32m    253\u001b[0m \u001b[43m    \u001b[49m\u001b[38;5;28;43mself\u001b[39;49m\u001b[38;5;241;43m.\u001b[39;49m\u001b[43mmode\u001b[49m\u001b[43m,\u001b[49m\n\u001b[0;32m    254\u001b[0m \u001b[43m    \u001b[49m\u001b[43mencoding\u001b[49m\u001b[38;5;241;43m=\u001b[39;49m\u001b[38;5;28;43mself\u001b[39;49m\u001b[38;5;241;43m.\u001b[39;49m\u001b[43mencoding\u001b[49m\u001b[43m,\u001b[49m\n\u001b[0;32m    255\u001b[0m \u001b[43m    \u001b[49m\u001b[43merrors\u001b[49m\u001b[38;5;241;43m=\u001b[39;49m\u001b[38;5;28;43mself\u001b[39;49m\u001b[38;5;241;43m.\u001b[39;49m\u001b[43merrors\u001b[49m\u001b[43m,\u001b[49m\n\u001b[0;32m    256\u001b[0m \u001b[43m    \u001b[49m\u001b[43mcompression\u001b[49m\u001b[38;5;241;43m=\u001b[39;49m\u001b[38;5;28;43mself\u001b[39;49m\u001b[38;5;241;43m.\u001b[39;49m\u001b[43mcompression\u001b[49m\u001b[43m,\u001b[49m\n\u001b[0;32m    257\u001b[0m \u001b[43m    \u001b[49m\u001b[43mstorage_options\u001b[49m\u001b[38;5;241;43m=\u001b[39;49m\u001b[38;5;28;43mself\u001b[39;49m\u001b[38;5;241;43m.\u001b[39;49m\u001b[43mstorage_options\u001b[49m\u001b[43m,\u001b[49m\n\u001b[0;32m    258\u001b[0m \u001b[43m\u001b[49m\u001b[43m)\u001b[49m \u001b[38;5;28;01mas\u001b[39;00m handles:\n\u001b[0;32m    259\u001b[0m     \u001b[38;5;66;03m# Note: self.encoding is irrelevant here\u001b[39;00m\n\u001b[0;32m    260\u001b[0m     \u001b[38;5;28mself\u001b[39m\u001b[38;5;241m.\u001b[39mwriter \u001b[38;5;241m=\u001b[39m csvlib\u001b[38;5;241m.\u001b[39mwriter(\n\u001b[0;32m    261\u001b[0m         handles\u001b[38;5;241m.\u001b[39mhandle,\n\u001b[0;32m    262\u001b[0m         lineterminator\u001b[38;5;241m=\u001b[39m\u001b[38;5;28mself\u001b[39m\u001b[38;5;241m.\u001b[39mlineterminator,\n\u001b[1;32m   (...)\u001b[0m\n\u001b[0;32m    267\u001b[0m         quotechar\u001b[38;5;241m=\u001b[39m\u001b[38;5;28mself\u001b[39m\u001b[38;5;241m.\u001b[39mquotechar,\n\u001b[0;32m    268\u001b[0m     )\n\u001b[0;32m    270\u001b[0m     \u001b[38;5;28mself\u001b[39m\u001b[38;5;241m.\u001b[39m_save()\n",
      "File \u001b[1;32mc:\\Users\\kangw\\Documents\\CSC_4792\\AcademicJournalClassifier\\venv\\lib\\site-packages\\pandas\\io\\common.py:873\u001b[0m, in \u001b[0;36mget_handle\u001b[1;34m(path_or_buf, mode, encoding, compression, memory_map, is_text, errors, storage_options)\u001b[0m\n\u001b[0;32m    868\u001b[0m \u001b[38;5;28;01melif\u001b[39;00m \u001b[38;5;28misinstance\u001b[39m(handle, \u001b[38;5;28mstr\u001b[39m):\n\u001b[0;32m    869\u001b[0m     \u001b[38;5;66;03m# Check whether the filename is to be opened in binary mode.\u001b[39;00m\n\u001b[0;32m    870\u001b[0m     \u001b[38;5;66;03m# Binary mode does not support 'encoding' and 'newline'.\u001b[39;00m\n\u001b[0;32m    871\u001b[0m     \u001b[38;5;28;01mif\u001b[39;00m ioargs\u001b[38;5;241m.\u001b[39mencoding \u001b[38;5;129;01mand\u001b[39;00m \u001b[38;5;124m\"\u001b[39m\u001b[38;5;124mb\u001b[39m\u001b[38;5;124m\"\u001b[39m \u001b[38;5;129;01mnot\u001b[39;00m \u001b[38;5;129;01min\u001b[39;00m ioargs\u001b[38;5;241m.\u001b[39mmode:\n\u001b[0;32m    872\u001b[0m         \u001b[38;5;66;03m# Encoding\u001b[39;00m\n\u001b[1;32m--> 873\u001b[0m         handle \u001b[38;5;241m=\u001b[39m \u001b[38;5;28;43mopen\u001b[39;49m\u001b[43m(\u001b[49m\n\u001b[0;32m    874\u001b[0m \u001b[43m            \u001b[49m\u001b[43mhandle\u001b[49m\u001b[43m,\u001b[49m\n\u001b[0;32m    875\u001b[0m \u001b[43m            \u001b[49m\u001b[43mioargs\u001b[49m\u001b[38;5;241;43m.\u001b[39;49m\u001b[43mmode\u001b[49m\u001b[43m,\u001b[49m\n\u001b[0;32m    876\u001b[0m \u001b[43m            \u001b[49m\u001b[43mencoding\u001b[49m\u001b[38;5;241;43m=\u001b[39;49m\u001b[43mioargs\u001b[49m\u001b[38;5;241;43m.\u001b[39;49m\u001b[43mencoding\u001b[49m\u001b[43m,\u001b[49m\n\u001b[0;32m    877\u001b[0m \u001b[43m            \u001b[49m\u001b[43merrors\u001b[49m\u001b[38;5;241;43m=\u001b[39;49m\u001b[43merrors\u001b[49m\u001b[43m,\u001b[49m\n\u001b[0;32m    878\u001b[0m \u001b[43m            \u001b[49m\u001b[43mnewline\u001b[49m\u001b[38;5;241;43m=\u001b[39;49m\u001b[38;5;124;43m\"\u001b[39;49m\u001b[38;5;124;43m\"\u001b[39;49m\u001b[43m,\u001b[49m\n\u001b[0;32m    879\u001b[0m \u001b[43m        \u001b[49m\u001b[43m)\u001b[49m\n\u001b[0;32m    880\u001b[0m     \u001b[38;5;28;01melse\u001b[39;00m:\n\u001b[0;32m    881\u001b[0m         \u001b[38;5;66;03m# Binary mode\u001b[39;00m\n\u001b[0;32m    882\u001b[0m         handle \u001b[38;5;241m=\u001b[39m \u001b[38;5;28mopen\u001b[39m(handle, ioargs\u001b[38;5;241m.\u001b[39mmode)\n",
      "\u001b[1;31mFileNotFoundError\u001b[0m: [Errno 2] No such file or directory: '../data/processed_features.csv'"
     ]
    }
   ],
   "source": [
    "# Combine all features\n",
    "numeric_features = ['title_length', 'abstract_length', 'total_text_length', \n",
    "                   'published_year', 'publication_decade', 'has_doi', 'has_pdf']\n",
    "\n",
    "# Encode categorical columns and store encoders\n",
    "from sklearn.preprocessing import LabelEncoder\n",
    "\n",
    "label_encoders = {}\n",
    "encoded_categorical = []\n",
    "for col in categorical_columns:\n",
    "    if col in df.columns:\n",
    "        le = LabelEncoder()\n",
    "        df[f\"{col}_encoded\"] = le.fit_transform(df[col])\n",
    "        label_encoders[col] = le\n",
    "        encoded_categorical.append(f\"{col}_encoded\")\n",
    "\n",
    "# Combine all feature sets\n",
    "final_features = pd.concat([\n",
    "    df[numeric_features + encoded_categorical],\n",
    "    tfidf_features,\n",
    "    df[[col for col in df.columns if col.startswith('topic_')]]\n",
    "], axis=1)\n",
    "\n",
    "# Encode the target variable if not already encoded\n",
    "if 'target_encoded' not in df.columns:\n",
    "    target_encoder = LabelEncoder()\n",
    "    df['target_encoded'] = target_encoder.fit_transform(df['assigned_sectors'])\n",
    "\n",
    "target = df['target_encoded']\n",
    "\n",
    "print(f\"Final feature matrix shape: {final_features.shape}\")\n",
    "print(f\"Target variable shape: {target.shape}\")\n",
    "\n",
    "# Save the processed data\n",
    "final_features.to_csv('../data/processed_features.csv', index=False)\n",
    "target.to_csv('../data/target.csv', index=False)\n",
    "df.to_csv('../data/cleaned_dataset.csv', index=False)\n",
    "\n",
    "# Save encoders and vectorizer for future use\n",
    "import joblib\n",
    "joblib.dump(label_encoders, '../data/label_encoders.pkl')\n",
    "joblib.dump(target_encoder, '../data/target_encoder.pkl')\n",
    "joblib.dump(tfidf_vectorizer, '../data/tfidf_vectorizer.pkl')\n",
    "\n",
    "print(\"Data preparation completed and files saved.\")"
   ]
  },
  {
   "cell_type": "code",
   "execution_count": 25,
   "id": "047f1f00",
   "metadata": {},
   "outputs": [
    {
     "name": "stdout",
     "output_type": "stream",
     "text": [
      "Final Data Quality Check:\n",
      "Total samples: 17136\n",
      "Total features: 6712\n",
      "Missing values in final features: 0\n",
      "Target class distribution:\n",
      "query_sector\n",
      "Mining                  1250\n",
      "Tourism                 1249\n",
      "Agriculture             1248\n",
      "Water_and_Sanitation    1247\n",
      "Education               1245\n",
      "Infrastructure          1244\n",
      "Manufacturing           1244\n",
      "Governance              1241\n",
      "Transport               1241\n",
      "Environment             1239\n",
      "Finance/Trade           1238\n",
      "Energy                  1200\n",
      "Health                  1156\n",
      "ICT/Technology          1094\n",
      "Name: count, dtype: int64\n"
     ]
    },
    {
     "data": {
      "image/png": "[encoded data removed]",
      "text/plain": [
       "<Figure size 1000x600 with 1 Axes>"
      ]
     },
     "metadata": {},
     "output_type": "display_data"
    }
   ],
   "source": [
    "# Final data quality assessment\n",
    "print(\"Final Data Quality Check:\")\n",
    "print(f\"Total samples: {len(df)}\")\n",
    "print(f\"Total features: {final_features.shape[1]}\")\n",
    "print(f\"Missing values in final features: {final_features.isnull().sum().sum()}\")\n",
    "print(f\"Target class distribution:\\n{df['query_sector'].value_counts()}\")\n",
    "\n",
    "# Visualize class distribution\n",
    "plt.figure(figsize=(10, 6))\n",
    "df['query_sector'].value_counts().plot(kind='bar')\n",
    "plt.title('Class Distribution of Articles by Sector')\n",
    "plt.xlabel('Sector')\n",
    "plt.ylabel('Count')\n",
    "plt.xticks(rotation=45)\n",
    "plt.tight_layout()\n",
    "plt.show()"
   ]
  },
  {
   "cell_type": "markdown",
   "id": "e494145e",
   "metadata": {},
   "source": [
    "This section finalizes the dataset for machine learning by combining numeric, categorical, and TF-IDF text features into one feature matrix (final_features) and preparing the target labels. It then saves the processed dataset, encoders, and vectorizer for future use, followed by a quality check (shape, missing values, and class distribution) with a visualization of sector counts."
   ]
  },
  {
   "cell_type": "markdown",
   "id": "55bfffb0726dfe97",
   "metadata": {},
   "source": [
    "# 4. Modelling"
   ]
  },
  {
   "cell_type": "code",
   "execution_count": 26,
   "id": "25e0cc5c6fc5325b",
   "metadata": {
    "ExecuteTime": {
     "end_time": "2025-08-28T18:27:57.481909Z",
     "start_time": "2025-08-28T18:27:57.463998Z"
    }
   },
   "outputs": [],
   "source": [
    "from sklearn.model_selection import train_test_split\n",
    "from sklearn.linear_model import LogisticRegression\n",
    "from sklearn.metrics import accuracy_score, classification_report, confusion_matrix\n",
    "import seaborn as sns\n",
    "import matplotlib.pyplot as plt"
   ]
  },
  {
   "cell_type": "code",
   "execution_count": 27,
   "id": "486e5a48",
   "metadata": {},
   "outputs": [],
   "source": [
    "# Load processed features and target\n",
    "X = final_features \n",
    "y = target"
   ]
  },
  {
   "cell_type": "code",
   "execution_count": 28,
   "id": "60cb757b",
   "metadata": {},
   "outputs": [],
   "source": [
    "# 1. Split data into training & testing sets (stratified to preserve class distribution)\n",
    "X_train, X_test, y_train, y_test = train_test_split( X, y, test_size=0.2, stratify=y, random_state=42 )"
   ]
  },
  {
   "cell_type": "code",
   "execution_count": 29,
   "id": "72f65f03",
   "metadata": {},
   "outputs": [
    {
     "name": "stdout",
     "output_type": "stream",
     "text": [
      "Training samples: 13708\n",
      "Testing samples: 3428\n"
     ]
    }
   ],
   "source": [
    "# Sanity check\n",
    "print(f\"Training samples: {X_train.shape[0]}\")\n",
    "print(f\"Testing samples: {X_test.shape[0]}\")"
   ]
  },
  {
   "cell_type": "code",
   "execution_count": 30,
   "id": "8e3e0b5e",
   "metadata": {},
   "outputs": [],
   "source": [
    "# 2. Initialize models\n",
    "log_reg = LogisticRegression(max_iter=200, multi_class=\"multinomial\", solver=\"saga\")"
   ]
  }
 ],
 "metadata": {
  "kernelspec": {
   "display_name": "venv",
   "language": "python",
   "name": "python3"
  },
  "language_info": {
   "codemirror_mode": {
    "name": "ipython",
    "version": 3
   },
   "file_extension": ".py",
   "mimetype": "text/x-python",
   "name": "python",
   "nbconvert_exporter": "python",
   "pygments_lexer": "ipython3",
   "version": "3.10.2"
  }
 },
 "nbformat": 4,
 "nbformat_minor": 5
}
