{
 "cells": [
  {
   "cell_type": "markdown",
   "id": "ce2d96c8897dd95a",
   "metadata": {},
   "source": [
    "# Business Understanding\n",
    "## Problem Statement\n",
    "The University of Zambia (UNZA) hosts a growing repository of academic journal articles across multiple disciplines. However, these articles are not systematically categorized according to Zambia’s Vision 2030 development sectors. This lack of alignment presents a missed opportunity to leverage UNZA’s intellectual output for national strategic planning, policy formulation, and sectoral development monitoring.\n",
    "\n",
    "This project aims to develop a data-driven classification system that maps UNZA journal articles to the appropriate Vision 2030 sectors using machine learning techniques. By automating this classification, we intend to bridge the gap between academic research and national development priorities, enabling policymakers, researchers, and institutions to better identify and track sectoral contributions and trends."
   ]
  },
  {
   "cell_type": "markdown",
   "id": "3cddee62",
   "metadata": {},
   "source": [
    "## Objectives\n",
    "**1. To align the University of Zambia’s research with national priorities:**\n",
    "Systematically map academic journal articles to Zambia’s Vision 2030 development sectors to highlight how the UNZA’s intellectual output contributes to achieving national development goals.\n",
    "\n",
    "**2. To enable evidence-based decision-making:**\n",
    "Provide policymakers, researchers, and development stakeholders with an accessible, data-driven tool for identifying sectoral trends and gaps in research, thereby supporting targeted policy formulation and strategic resource allocation.\n",
    "\n",
    "**3. To automate and scale research classification:**\n",
    "Develop a machine learning–powered system to classify and update the categorization of research articles efficiently, ensuring scalability as UNZA’s repository grows and enabling continuous monitoring of sectoral contributions over time."
   ]
  },
  {
   "cell_type": "markdown",
   "id": "7934fefe",
   "metadata": {},
   "source": [
    "## Data Mining Goals\n",
    "\n",
    "**1. Design a supervised multi-class classification model** to assign each UNZA journal article to one of Zambia’s Vision 2030 sectors based on the article’s metadata (title, abstract, and keywords).\n",
    "\n",
    "*Purpose*: Reveal the alignment between academic output and national development areas.\n",
    "\n",
    "*Method*: Use labeled training data mapped to Vision 2030 sectors, extracted from a subset of articles.\n",
    "\n",
    "**Expected Output**: Accurate labels such as “Education,” “Agriculture,” “Health,” “Infrastructure”, etc.\n",
    "\n",
    "**2. Identify latent research clusters and anomalies** through unsupervised learning (e.g., clustering or topic modeling) to uncover emerging themes or neglected areas.\n",
    "\n",
    "*Purpose*: Help decision-makers identify new or missing areas of national interest not currently emphasized in the Vision 2030 framework.\n",
    "\n",
    "*Method*: Apply techniques like K-Means, DBSCAN, or LDA topic modeling on text embeddings.\n",
    "\n",
    "**Expected Output**: Visual or descriptive reports of discovered themes or outliers.\n",
    "\n",
    "**3. Deploy a scalable, retrainable classification pipeline** using modern ML techniques and modular design.\n",
    "\n",
    "*Purpose*: Automate the tagging process for future UNZA research uploads.\n",
    "\n",
    "*Method*: Build a modular pipeline for preprocessing, vectorization (e.g., TF-IDF or BERT), training, evaluation, and inference.\n",
    "\n",
    "**Expected Output**: A script or web app that classifies new articles on upload.\n",
    "\n",
    "**4. Continuously evaluate model performance** over time using metrics such as F1-score, accuracy, and confusion matrices.\n",
    "\n",
    "*Purpose*: Ensure system reliability and adaptiveness as language and research topics evolve.\n",
    "\n",
    "*Method*: Establish a validation framework and regularly benchmark models.\n",
    "\n",
    "**Expected Output**: Monitoring logs or retraining criteria to prevent model drift."
   ]
  },
  {
   "cell_type": "markdown",
   "id": "faa0bceb",
   "metadata": {},
   "source": [
    "## Initial Project Success Criteria\n",
    "\n",
    "The project will be considered initially successful if the supervised classification model achieves at least 60% accuracy in assigning UNZA journal articles to the correct Zambia Vision 2030 development sectors.\n",
    "\n",
    "This baseline is realistic for a first iteration, considering:\n",
    "\n",
    "Data quality issues such as incomplete or inconsistent titles, abstracts, or keywords.\n",
    "\n",
    "Sector overlap, where some research spans multiple development areas.\n",
    "\n",
    "Model maturity, as this is the initial deployment and will improve with further training and tuning.\n",
    "\n",
    "Achieving this baseline will:\n",
    "\n",
    "Demonstrate that the model performs significantly above random guessing.\n",
    "\n",
    "Provide policymakers and researchers with a usable starting point for tracking sectoral research contributions.\n",
    "\n",
    "Establish a functional foundation for refining the system toward higher accuracy and more adoption."
   ]
  },
  {
   "cell_type": "markdown",
   "id": "60384f44b96b46e",
   "metadata": {},
   "source": [
    "# Data Understanding"
   ]
  },
  {
   "cell_type": "code",
   "id": "4e6f9ac4ea5bcc4d",
   "metadata": {
    "ExecuteTime": {
     "end_time": "2025-08-20T09:39:56.007559Z",
     "start_time": "2025-08-20T09:39:54.265090Z"
    }
   },
   "source": [
    "# --- Step 1: Import libraries ---\n",
    "import pandas as pd\n",
    "import matplotlib.pyplot as plt\n",
    "# --- Step 2: Load dataset ---\n",
    "file_path = \"../data/vision2030_corpus.csv\"\n",
    "df = pd.read_csv(file_path)\n",
    "# --- Step 3: Initial Exploration ---\n",
    "print(\"First 5 rows:\")\n",
    "display(df.head())"
   ],
   "outputs": [
    {
     "name": "stdout",
     "output_type": "stream",
     "text": [
      "First 5 rows:\n"
     ]
    },
    {
     "data": {
      "text/plain": [
       "     source                                id  \\\n",
       "0  openalex  https://openalex.org/W2130222293   \n",
       "1  openalex  https://openalex.org/W2765377880   \n",
       "2  openalex  https://openalex.org/W2808245019   \n",
       "3  openalex  https://openalex.org/W2171347306   \n",
       "4  openalex  https://openalex.org/W2888829139   \n",
       "\n",
       "                                                doi  \\\n",
       "0           https://doi.org/10.1093/occmed/52.6.311   \n",
       "1        https://doi.org/10.1016/j.agsy.2017.09.007   \n",
       "2           https://doi.org/10.1073/pnas.1806645115   \n",
       "3            https://doi.org/10.5860/choice.31-2759   \n",
       "4  https://doi.org/10.1016/j.landusepol.2018.08.021   \n",
       "\n",
       "                                               title  \\\n",
       "0  Pesticide sprayers' knowledge, attitude and pr...   \n",
       "1  Climate smart agriculture, farm household typo...   \n",
       "2  Policy distortions, farm size, and the overuse...   \n",
       "3  Smallholders, householders: farm families and ...   \n",
       "4  Land fragmentation and other determinants of a...   \n",
       "\n",
       "                                            abstract authors   published  \\\n",
       "0  Pesticide sprayers from five state‐owned agric...     NaN  2002-09-01   \n",
       "1  One of the great challenges in agricultural de...     NaN  2017-11-01   \n",
       "2  Significance Overuse of agricultural chemicals...     NaN  2018-06-18   \n",
       "3  Contrasting the prevailing theories of the evo...     NaN  1994-01-01   \n",
       "4                                                NaN     NaN  2018-08-29   \n",
       "\n",
       "                                             pdf_url  \\\n",
       "0  https://academic.oup.com/occmed/article-pdf/52...   \n",
       "1                                                NaN   \n",
       "2  https://www.pnas.org/content/pnas/115/27/7010....   \n",
       "3                                                NaN   \n",
       "4                                                NaN   \n",
       "\n",
       "                                              topics journal assigned_sectors  \\\n",
       "0  Pesticide Exposure and Toxicity;Insect and Pes...     NaN      Agriculture   \n",
       "1                   Agricultural risk and resilience     NaN      Agriculture   \n",
       "2  Agriculture Sustainability and Environmental I...     NaN      Agriculture   \n",
       "3  Agriculture, Land Use, Rural Development;Agric...     NaN      Agriculture   \n",
       "4  Economic Growth and Productivity;Land Rights a...     NaN      Agriculture   \n",
       "\n",
       "  provenance_sources query_sector  \n",
       "0           openalex  Agriculture  \n",
       "1           openalex  Agriculture  \n",
       "2           openalex  Agriculture  \n",
       "3           openalex  Agriculture  \n",
       "4           openalex  Agriculture  "
      ],
      "text/html": [
       "<div>\n",
       "<style scoped>\n",
       "    .dataframe tbody tr th:only-of-type {\n",
       "        vertical-align: middle;\n",
       "    }\n",
       "\n",
       "    .dataframe tbody tr th {\n",
       "        vertical-align: top;\n",
       "    }\n",
       "\n",
       "    .dataframe thead th {\n",
       "        text-align: right;\n",
       "    }\n",
       "</style>\n",
       "<table border=\"1\" class=\"dataframe\">\n",
       "  <thead>\n",
       "    <tr style=\"text-align: right;\">\n",
       "      <th></th>\n",
       "      <th>source</th>\n",
       "      <th>id</th>\n",
       "      <th>doi</th>\n",
       "      <th>title</th>\n",
       "      <th>abstract</th>\n",
       "      <th>authors</th>\n",
       "      <th>published</th>\n",
       "      <th>pdf_url</th>\n",
       "      <th>topics</th>\n",
       "      <th>journal</th>\n",
       "      <th>assigned_sectors</th>\n",
       "      <th>provenance_sources</th>\n",
       "      <th>query_sector</th>\n",
       "    </tr>\n",
       "  </thead>\n",
       "  <tbody>\n",
       "    <tr>\n",
       "      <th>0</th>\n",
       "      <td>openalex</td>\n",
       "      <td>https://openalex.org/W2130222293</td>\n",
       "      <td>https://doi.org/10.1093/occmed/52.6.311</td>\n",
       "      <td>Pesticide sprayers' knowledge, attitude and pr...</td>\n",
       "      <td>Pesticide sprayers from five state‐owned agric...</td>\n",
       "      <td>NaN</td>\n",
       "      <td>2002-09-01</td>\n",
       "      <td>https://academic.oup.com/occmed/article-pdf/52...</td>\n",
       "      <td>Pesticide Exposure and Toxicity;Insect and Pes...</td>\n",
       "      <td>NaN</td>\n",
       "      <td>Agriculture</td>\n",
       "      <td>openalex</td>\n",
       "      <td>Agriculture</td>\n",
       "    </tr>\n",
       "    <tr>\n",
       "      <th>1</th>\n",
       "      <td>openalex</td>\n",
       "      <td>https://openalex.org/W2765377880</td>\n",
       "      <td>https://doi.org/10.1016/j.agsy.2017.09.007</td>\n",
       "      <td>Climate smart agriculture, farm household typo...</td>\n",
       "      <td>One of the great challenges in agricultural de...</td>\n",
       "      <td>NaN</td>\n",
       "      <td>2017-11-01</td>\n",
       "      <td>NaN</td>\n",
       "      <td>Agricultural risk and resilience</td>\n",
       "      <td>NaN</td>\n",
       "      <td>Agriculture</td>\n",
       "      <td>openalex</td>\n",
       "      <td>Agriculture</td>\n",
       "    </tr>\n",
       "    <tr>\n",
       "      <th>2</th>\n",
       "      <td>openalex</td>\n",
       "      <td>https://openalex.org/W2808245019</td>\n",
       "      <td>https://doi.org/10.1073/pnas.1806645115</td>\n",
       "      <td>Policy distortions, farm size, and the overuse...</td>\n",
       "      <td>Significance Overuse of agricultural chemicals...</td>\n",
       "      <td>NaN</td>\n",
       "      <td>2018-06-18</td>\n",
       "      <td>https://www.pnas.org/content/pnas/115/27/7010....</td>\n",
       "      <td>Agriculture Sustainability and Environmental I...</td>\n",
       "      <td>NaN</td>\n",
       "      <td>Agriculture</td>\n",
       "      <td>openalex</td>\n",
       "      <td>Agriculture</td>\n",
       "    </tr>\n",
       "    <tr>\n",
       "      <th>3</th>\n",
       "      <td>openalex</td>\n",
       "      <td>https://openalex.org/W2171347306</td>\n",
       "      <td>https://doi.org/10.5860/choice.31-2759</td>\n",
       "      <td>Smallholders, householders: farm families and ...</td>\n",
       "      <td>Contrasting the prevailing theories of the evo...</td>\n",
       "      <td>NaN</td>\n",
       "      <td>1994-01-01</td>\n",
       "      <td>NaN</td>\n",
       "      <td>Agriculture, Land Use, Rural Development;Agric...</td>\n",
       "      <td>NaN</td>\n",
       "      <td>Agriculture</td>\n",
       "      <td>openalex</td>\n",
       "      <td>Agriculture</td>\n",
       "    </tr>\n",
       "    <tr>\n",
       "      <th>4</th>\n",
       "      <td>openalex</td>\n",
       "      <td>https://openalex.org/W2888829139</td>\n",
       "      <td>https://doi.org/10.1016/j.landusepol.2018.08.021</td>\n",
       "      <td>Land fragmentation and other determinants of a...</td>\n",
       "      <td>NaN</td>\n",
       "      <td>NaN</td>\n",
       "      <td>2018-08-29</td>\n",
       "      <td>NaN</td>\n",
       "      <td>Economic Growth and Productivity;Land Rights a...</td>\n",
       "      <td>NaN</td>\n",
       "      <td>Agriculture</td>\n",
       "      <td>openalex</td>\n",
       "      <td>Agriculture</td>\n",
       "    </tr>\n",
       "  </tbody>\n",
       "</table>\n",
       "</div>"
      ]
     },
     "metadata": {},
     "output_type": "display_data"
    }
   ],
   "execution_count": 1
  },
  {
   "cell_type": "markdown",
   "id": "f45bd0b4365cbe22",
   "metadata": {},
   "source": [
    "The code above loads the dataset into our colaborotory notebook"
   ]
  },
  {
   "cell_type": "code",
   "id": "ffe4f7bd",
   "metadata": {
    "ExecuteTime": {
     "end_time": "2025-08-20T09:40:02.696576Z",
     "start_time": "2025-08-20T09:40:02.636272Z"
    }
   },
   "source": [
    "# --- Step 4: Summary statistics ---\n",
    "print(\"\\nInfo:\")\n",
    "df.info()\n"
   ],
   "outputs": [
    {
     "name": "stdout",
     "output_type": "stream",
     "text": [
      "\n",
      "Info:\n",
      "<class 'pandas.core.frame.DataFrame'>\n",
      "RangeIndex: 17136 entries, 0 to 17135\n",
      "Data columns (total 13 columns):\n",
      " #   Column              Non-Null Count  Dtype \n",
      "---  ------              --------------  ----- \n",
      " 0   source              17136 non-null  object\n",
      " 1   id                  17136 non-null  object\n",
      " 2   doi                 12312 non-null  object\n",
      " 3   title               17135 non-null  object\n",
      " 4   abstract            13509 non-null  object\n",
      " 5   authors             3196 non-null   object\n",
      " 6   published           17136 non-null  object\n",
      " 7   pdf_url             7526 non-null   object\n",
      " 8   topics              13903 non-null  object\n",
      " 9   journal             3196 non-null   object\n",
      " 10  assigned_sectors    17136 non-null  object\n",
      " 11  provenance_sources  17136 non-null  object\n",
      " 12  query_sector        17136 non-null  object\n",
      "dtypes: object(13)\n",
      "memory usage: 1.7+ MB\n"
     ]
    }
   ],
   "execution_count": 2
  },
  {
   "cell_type": "markdown",
   "id": "1fc53fb2",
   "metadata": {},
   "source": [
    "Dataset has 17,136 rows × 13 columns.\n",
    "All columns are stored as object/text.\n",
    "Missing values appear mainly in authors, abstract, doi, pdf_url, and journal.\n",
    "Titles and abstracts differ in length, showing variation in metadata."
   ]
  },
  {
   "cell_type": "code",
   "id": "c2e83388",
   "metadata": {
    "ExecuteTime": {
     "end_time": "2025-08-20T09:40:05.711613Z",
     "start_time": "2025-08-20T09:40:05.459874Z"
    }
   },
   "source": [
    "\n",
    "print(\"\\nSummary statistics (all columns):\")\n",
    "display(df.describe(include=\"all\"))"
   ],
   "outputs": [
    {
     "name": "stdout",
     "output_type": "stream",
     "text": [
      "\n",
      "Summary statistics (all columns):\n"
     ]
    },
    {
     "data": {
      "text/plain": [
       "          source                                id  \\\n",
       "count      17136                             17136   \n",
       "unique         2                             17136   \n",
       "top     openalex  https://openalex.org/W2130222293   \n",
       "freq       13940                                 1   \n",
       "\n",
       "                                            doi  \\\n",
       "count                                     12312   \n",
       "unique                                    12312   \n",
       "top     https://doi.org/10.1093/occmed/52.6.311   \n",
       "freq                                          1   \n",
       "\n",
       "                                       title  \\\n",
       "count                                  17135   \n",
       "unique                                 16926   \n",
       "top     Veterinary Medicine and Human Health   \n",
       "freq                                       3   \n",
       "\n",
       "                                                 abstract          authors  \\\n",
       "count                                               13509             3196   \n",
       "unique                                              13447             3126   \n",
       "top     Our website uses cookies to enhance your exper...  Brian P. Hanley   \n",
       "freq                                                   12                5   \n",
       "\n",
       "         published                                            pdf_url  \\\n",
       "count        17136                                               7526   \n",
       "unique        8211                                               7473   \n",
       "top     2020-01-01  https://pq-static-content.proquest.com/collate...   \n",
       "freq           121                                                  4   \n",
       "\n",
       "                                  topics journal assigned_sectors  \\\n",
       "count                              13903    3196            17136   \n",
       "unique                             10295       1               26   \n",
       "top     Child Nutrition and Water Access   arXiv           Mining   \n",
       "freq                                  95    3196             1249   \n",
       "\n",
       "       provenance_sources query_sector  \n",
       "count               17136        17136  \n",
       "unique                  2           14  \n",
       "top              openalex       Mining  \n",
       "freq                13940         1250  "
      ],
      "text/html": [
       "<div>\n",
       "<style scoped>\n",
       "    .dataframe tbody tr th:only-of-type {\n",
       "        vertical-align: middle;\n",
       "    }\n",
       "\n",
       "    .dataframe tbody tr th {\n",
       "        vertical-align: top;\n",
       "    }\n",
       "\n",
       "    .dataframe thead th {\n",
       "        text-align: right;\n",
       "    }\n",
       "</style>\n",
       "<table border=\"1\" class=\"dataframe\">\n",
       "  <thead>\n",
       "    <tr style=\"text-align: right;\">\n",
       "      <th></th>\n",
       "      <th>source</th>\n",
       "      <th>id</th>\n",
       "      <th>doi</th>\n",
       "      <th>title</th>\n",
       "      <th>abstract</th>\n",
       "      <th>authors</th>\n",
       "      <th>published</th>\n",
       "      <th>pdf_url</th>\n",
       "      <th>topics</th>\n",
       "      <th>journal</th>\n",
       "      <th>assigned_sectors</th>\n",
       "      <th>provenance_sources</th>\n",
       "      <th>query_sector</th>\n",
       "    </tr>\n",
       "  </thead>\n",
       "  <tbody>\n",
       "    <tr>\n",
       "      <th>count</th>\n",
       "      <td>17136</td>\n",
       "      <td>17136</td>\n",
       "      <td>12312</td>\n",
       "      <td>17135</td>\n",
       "      <td>13509</td>\n",
       "      <td>3196</td>\n",
       "      <td>17136</td>\n",
       "      <td>7526</td>\n",
       "      <td>13903</td>\n",
       "      <td>3196</td>\n",
       "      <td>17136</td>\n",
       "      <td>17136</td>\n",
       "      <td>17136</td>\n",
       "    </tr>\n",
       "    <tr>\n",
       "      <th>unique</th>\n",
       "      <td>2</td>\n",
       "      <td>17136</td>\n",
       "      <td>12312</td>\n",
       "      <td>16926</td>\n",
       "      <td>13447</td>\n",
       "      <td>3126</td>\n",
       "      <td>8211</td>\n",
       "      <td>7473</td>\n",
       "      <td>10295</td>\n",
       "      <td>1</td>\n",
       "      <td>26</td>\n",
       "      <td>2</td>\n",
       "      <td>14</td>\n",
       "    </tr>\n",
       "    <tr>\n",
       "      <th>top</th>\n",
       "      <td>openalex</td>\n",
       "      <td>https://openalex.org/W2130222293</td>\n",
       "      <td>https://doi.org/10.1093/occmed/52.6.311</td>\n",
       "      <td>Veterinary Medicine and Human Health</td>\n",
       "      <td>Our website uses cookies to enhance your exper...</td>\n",
       "      <td>Brian P. Hanley</td>\n",
       "      <td>2020-01-01</td>\n",
       "      <td>https://pq-static-content.proquest.com/collate...</td>\n",
       "      <td>Child Nutrition and Water Access</td>\n",
       "      <td>arXiv</td>\n",
       "      <td>Mining</td>\n",
       "      <td>openalex</td>\n",
       "      <td>Mining</td>\n",
       "    </tr>\n",
       "    <tr>\n",
       "      <th>freq</th>\n",
       "      <td>13940</td>\n",
       "      <td>1</td>\n",
       "      <td>1</td>\n",
       "      <td>3</td>\n",
       "      <td>12</td>\n",
       "      <td>5</td>\n",
       "      <td>121</td>\n",
       "      <td>4</td>\n",
       "      <td>95</td>\n",
       "      <td>3196</td>\n",
       "      <td>1249</td>\n",
       "      <td>13940</td>\n",
       "      <td>1250</td>\n",
       "    </tr>\n",
       "  </tbody>\n",
       "</table>\n",
       "</div>"
      ]
     },
     "metadata": {},
     "output_type": "display_data"
    }
   ],
   "execution_count": 3
  },
  {
   "cell_type": "markdown",
   "id": "957d52e9",
   "metadata": {},
   "source": [
    "The code above generates descriptive statistics for both numeric and categorical columns."
   ]
  },
  {
   "cell_type": "code",
   "id": "a5956a0e",
   "metadata": {
    "ExecuteTime": {
     "end_time": "2025-08-20T09:40:08.916570Z",
     "start_time": "2025-08-20T09:40:08.878979Z"
    }
   },
   "source": [
    "print(\"\\nShape (rows, columns):\", df.shape)\n",
    "\n",
    "print(\"\\nMissing values per column:\")\n",
    "print(df.isnull().sum())"
   ],
   "outputs": [
    {
     "name": "stdout",
     "output_type": "stream",
     "text": [
      "\n",
      "Shape (rows, columns): (17136, 13)\n",
      "\n",
      "Missing values per column:\n",
      "source                    0\n",
      "id                        0\n",
      "doi                    4824\n",
      "title                     1\n",
      "abstract               3627\n",
      "authors               13940\n",
      "published                 0\n",
      "pdf_url                9610\n",
      "topics                 3233\n",
      "journal               13940\n",
      "assigned_sectors          0\n",
      "provenance_sources        0\n",
      "query_sector              0\n",
      "dtype: int64\n"
     ]
    }
   ],
   "execution_count": 4
  },
  {
   "cell_type": "markdown",
   "id": "0c2b31b1",
   "metadata": {},
   "source": [
    "The code above first prints the dataset’s overall dimensions (rows and columns) using df.shape. Then it shows how many missing values each column contains by running df.isnull().sum()."
   ]
  },
  {
   "cell_type": "code",
   "id": "1919c921",
   "metadata": {
    "ExecuteTime": {
     "end_time": "2025-08-20T09:40:48.279860Z",
     "start_time": "2025-08-20T09:40:47.330030Z"
    }
   },
   "source": [
    "\n",
    "# --- Create derived length columns ---\n",
    "df[\"title_length\"] = df[\"title\"].fillna(\"\").apply(len)\n",
    "df[\"abstract_length\"] = df[\"abstract\"].fillna(\"\").apply(len)\n",
    "\n",
    "# --- Plot histograms ---\n",
    "df[[\"title_length\", \"abstract_length\"]].hist(\n",
    "    figsize=(10, 5), bins=30, edgecolor=\"black\"\n",
    ")\n",
    "plt.suptitle(\"Distribution of Title and Abstract Lengths\", fontsize=14)\n",
    "plt.show()\n",
    "\n",
    "# Missing rate per column (in %)\n",
    "missing_rates = df.isnull().mean().sort_values(ascending=False) * 100\n",
    "\n",
    "print(\"Missing data rates (%):\")\n",
    "\n",
    "# Plot as bar chart\n",
    "plt.figure(figsize=(10,5))\n",
    "missing_rates.plot(kind=\"bar\", edgecolor=\"black\")\n",
    "plt.title(\"Missing Data Percentage by Column\", fontsize=14)\n",
    "plt.ylabel(\"Percentage (%)\")\n",
    "plt.xticks(rotation=45, ha=\"right\")\n",
    "plt.show()\n"
   ],
   "outputs": [
    {
     "data": {
      "text/plain": [
       "<Figure size 1000x500 with 2 Axes>"
      ],
      "image/png": "[encoded data removed]"
     },
     "metadata": {},
     "output_type": "display_data"
    },
    {
     "name": "stdout",
     "output_type": "stream",
     "text": [
      "Missing data rates (%):\n"
     ]
    },
    {
     "data": {
      "text/plain": [
       "<Figure size 1000x500 with 1 Axes>"
      ],
      "image/png": "[encoded data removed]"
     },
     "metadata": {},
     "output_type": "display_data"
    }
   ],
   "execution_count": 6
  },
  {
   "cell_type": "markdown",
   "id": "130ca345",
   "metadata": {},
   "source": [
    "### Dataset Summary\n",
    "\n",
    "The dataset has **17,136 rows × 13 columns** of academic publication metadata.\n",
    "\n",
    "#### Observations\n",
    "\n",
    "- **Data types**:  \n",
    "  All columns are text. `published` should be converted to `datetime` for trend analysis.  \n",
    "\n",
    "- **Missing data**:  \n",
    "  - `authors`: 81% missing  \n",
    "  - `journal`: 81% missing  \n",
    "  - `abstract`: 21% missing  \n",
    "  - `doi`: 28% missing  \n",
    "  - `pdf_url`: 56% missing  \n",
    "  - Other fields: complete  \n",
    "\n",
    "- **Uniqueness**:  \n",
    "  - `id` is unique (usable as primary key)  \n",
    "  - Titles are mostly unique (99%)  \n",
    "\n",
    "- **Distributions**:  \n",
    "  - `source` dominated by **openalex** (81%)  \n",
    "  - `assigned_sectors` has 26 categories, with **Mining** and **Agriculture** frequent  \n",
    "  - Publication years span **1994–2020+**  \n",
    "\n",
    "#### Interpretation\n",
    "\n",
    "The dataset is **large and well-structured**, but metadata gaps (authors, journals, abstracts) limit certain analyses.  \n",
    "Strong identifiers (`id`, `topics`, `assigned_sectors`) support sectoral and thematic exploration.  \n",
    "Preprocessing (handling missingness, normalizing dates) is needed for deeper analysis.\n"
   ]
  },
  {
   "metadata": {},
   "cell_type": "markdown",
   "source": "## Data Preparation",
   "id": "57c5fa1c4ab81797"
  },
  {
   "metadata": {
    "ExecuteTime": {
     "end_time": "2025-08-20T09:51:08.075833Z",
     "start_time": "2025-08-20T09:51:07.546275Z"
    }
   },
   "cell_type": "code",
   "source": [
    "import numpy as np\n",
    "import re\n",
    "from sklearn.preprocessing import LabelEncoder\n",
    "from sklearn.feature_extraction.text import TfidfVectorizer\n",
    "import nltk\n",
    "from nltk.corpus import stopwords\n",
    "from nltk.stem import WordNetLemmatizer"
   ],
   "id": "75a9cbe173f78b26",
   "outputs": [],
   "execution_count": 9
  },
  {
   "metadata": {
    "ExecuteTime": {
     "end_time": "2025-08-20T09:55:16.731603Z",
     "start_time": "2025-08-20T09:55:16.710649Z"
    }
   },
   "cell_type": "code",
   "source": [
    "nltk.download('stopwords')\n",
    "nltk.download('wordnet')\n",
    "nltk.download('punkt')"
   ],
   "id": "5e31e9798d403e0c",
   "outputs": [
    {
     "name": "stderr",
     "output_type": "stream",
     "text": [
      "[nltk_data] Downloading package stopwords to /home/jehu/nltk_data...\n",
      "[nltk_data]   Package stopwords is already up-to-date!\n",
      "[nltk_data] Downloading package wordnet to /home/jehu/nltk_data...\n",
      "[nltk_data]   Package wordnet is already up-to-date!\n",
      "[nltk_data] Downloading package punkt to /home/jehu/nltk_data...\n",
      "[nltk_data]   Package punkt is already up-to-date!\n"
     ]
    },
    {
     "data": {
      "text/plain": [
       "True"
      ]
     },
     "execution_count": 13,
     "metadata": {},
     "output_type": "execute_result"
    }
   ],
   "execution_count": 13
  },
  {
   "metadata": {
    "ExecuteTime": {
     "end_time": "2025-08-20T09:56:32.906429Z",
     "start_time": "2025-08-20T09:56:32.800033Z"
    }
   },
   "cell_type": "code",
   "source": [
    "# Check the percentage of missing values for each column\n",
    "missing_percentage = (df.isnull().sum() / len(df)) * 100\n",
    "print(\"Missing Value Percentage:\\n\", missing_percentage)\n",
    "\n",
    "# For text columns, we'll fill missing values with empty strings\n",
    "text_columns = ['title', 'abstract', 'authors']\n",
    "for col in text_columns:\n",
    "    if col in df.columns:\n",
    "        df[col].fillna('', inplace=True)\n",
    "\n",
    "# For categorical columns, we'll fill with 'Unknown'\n",
    "categorical_columns = ['journal', 'topics', 'provenance_sources']\n",
    "for col in categorical_columns:\n",
    "    if col in df.columns:\n",
    "        df[col].fillna('Unknown', inplace=True)\n",
    "\n",
    "# For published date, we'll extract year and handle missing values\n",
    "df['published'] = pd.to_datetime(df['published'], errors='coerce')\n",
    "df['published_year'] = df['published'].dt.year\n",
    "df['published_year'].fillna(df['published_year'].median(), inplace=True)\n",
    "\n",
    "print(\"\\nMissing values after treatment:\\n\", df.isnull().sum())"
   ],
   "id": "f36266a7476e80f1",
   "outputs": [
    {
     "name": "stdout",
     "output_type": "stream",
     "text": [
      "Missing Value Percentage:\n",
      " source                 0.000000\n",
      "id                     0.000000\n",
      "doi                   28.151261\n",
      "title                  0.005836\n",
      "abstract              21.165966\n",
      "authors               81.349206\n",
      "published              0.000000\n",
      "pdf_url               56.080766\n",
      "topics                18.866713\n",
      "journal               81.349206\n",
      "assigned_sectors       0.000000\n",
      "provenance_sources     0.000000\n",
      "query_sector           0.000000\n",
      "title_length           0.000000\n",
      "abstract_length        0.000000\n",
      "dtype: float64\n",
      "\n",
      "Missing values after treatment:\n",
      " source                   0\n",
      "id                       0\n",
      "doi                   4824\n",
      "title                    0\n",
      "abstract                 0\n",
      "authors                  0\n",
      "published             3196\n",
      "pdf_url               9610\n",
      "topics                   0\n",
      "journal                  0\n",
      "assigned_sectors         0\n",
      "provenance_sources       0\n",
      "query_sector             0\n",
      "title_length             0\n",
      "abstract_length          0\n",
      "published_year           0\n",
      "dtype: int64\n"
     ]
    },
    {
     "name": "stderr",
     "output_type": "stream",
     "text": [
      "/tmp/ipykernel_846120/1740425092.py:9: FutureWarning: A value is trying to be set on a copy of a DataFrame or Series through chained assignment using an inplace method.\n",
      "The behavior will change in pandas 3.0. This inplace method will never work because the intermediate object on which we are setting values always behaves as a copy.\n",
      "\n",
      "For example, when doing 'df[col].method(value, inplace=True)', try using 'df.method({col: value}, inplace=True)' or df[col] = df[col].method(value) instead, to perform the operation inplace on the original object.\n",
      "\n",
      "\n",
      "  df[col].fillna('', inplace=True)\n",
      "/tmp/ipykernel_846120/1740425092.py:15: FutureWarning: A value is trying to be set on a copy of a DataFrame or Series through chained assignment using an inplace method.\n",
      "The behavior will change in pandas 3.0. This inplace method will never work because the intermediate object on which we are setting values always behaves as a copy.\n",
      "\n",
      "For example, when doing 'df[col].method(value, inplace=True)', try using 'df.method({col: value}, inplace=True)' or df[col] = df[col].method(value) instead, to perform the operation inplace on the original object.\n",
      "\n",
      "\n",
      "  df[col].fillna('Unknown', inplace=True)\n",
      "/tmp/ipykernel_846120/1740425092.py:20: FutureWarning: A value is trying to be set on a copy of a DataFrame or Series through chained assignment using an inplace method.\n",
      "The behavior will change in pandas 3.0. This inplace method will never work because the intermediate object on which we are setting values always behaves as a copy.\n",
      "\n",
      "For example, when doing 'df[col].method(value, inplace=True)', try using 'df.method({col: value}, inplace=True)' or df[col] = df[col].method(value) instead, to perform the operation inplace on the original object.\n",
      "\n",
      "\n",
      "  df['published_year'].fillna(df['published_year'].median(), inplace=True)\n"
     ]
    }
   ],
   "execution_count": 15
  }
 ],
 "metadata": {
  "kernelspec": {
   "display_name": ".venv",
   "language": "python",
   "name": "python3"
  },
  "language_info": {
   "codemirror_mode": {
    "name": "ipython",
    "version": 3
   },
   "file_extension": ".py",
   "mimetype": "text/x-python",
   "name": "python",
   "nbconvert_exporter": "python",
   "pygments_lexer": "ipython3",
   "version": "3.13.3"
  }
 },
 "nbformat": 4,
 "nbformat_minor": 5
}
