{
 "cells": [
  {
   "cell_type": "markdown",
   "id": "ce2d96c8897dd95a",
   "metadata": {},
   "source": [
    "# Business Understanding\n",
    "## Problem Statement\n",
    "The University of Zambia (UNZA) hosts a growing repository of academic journal articles across multiple disciplines. However, these articles are not systematically categorized according to Zambia’s Vision 2030 development sectors. This lack of alignment presents a missed opportunity to leverage UNZA’s intellectual output for national strategic planning, policy formulation, and sectoral development monitoring.\n",
    "\n",
    "This project aims to develop a data-driven classification system that maps UNZA journal articles to the appropriate Vision 2030 sectors using machine learning techniques. By automating this classification, we intend to bridge the gap between academic research and national development priorities, enabling policymakers, researchers, and institutions to better identify and track sectoral contributions and trends."
   ]
  },
  {
   "cell_type": "markdown",
   "id": "3cddee62",
   "metadata": {},
   "source": [
    "## Objectives\n",
    "**I. To align the University of Zambia’s research with national priorities:**\n",
    "Systematically map academic journal articles to Zambia’s Vision 2030 development sectors to highlight how the UNZA’s intellectual output contributes to achieving national development goals.\n",
    "\n",
    "**II. To enable evidence-based decision-making:**\n",
    "Provide policymakers, researchers, and development stakeholders with an accessible, data-driven tool for identifying sectoral trends and gaps in research, thereby supporting targeted policy formulation and strategic resource allocation.\n",
    "\n",
    "**III. To automate and scale research classification:**\n",
    "Develop a machine learning–powered system to classify and update the categorization of research articles efficiently, ensuring scalability as UNZA’s repository grows and enabling continuous monitoring of sectoral contributions over time."
   ]
  },
  {
   "cell_type": "markdown",
   "id": "7934fefe",
   "metadata": {},
   "source": [
    "Data Mining Goals\n",
    "\n",
    "I. Design a supervised multi-class classification model to assign each UNZA journal article to one of Zambia’s Vision 2030 sectors based on the article’s metadata (title, abstract, and keywords).\n",
    "\n",
    "Purpose: Reveal the alignment between academic output and national development areas.\n",
    "\n",
    "Method: Use labeled training data mapped to Vision 2030 sectors, extracted from a subset of articles.\n",
    "\n",
    "Expected Output: Accurate labels such as “Education,” “Agriculture,” “Health,” “Infrastructure”, etc.\n",
    "\n",
    "II. Identify latent research clusters and anomalies through unsupervised learning (e.g., clustering or topic modeling) to uncover emerging themes or neglected areas.\n",
    "\n",
    "Purpose: Help decision-makers identify new or missing areas of national interest not currently emphasized in the Vision 2030 framework.\n",
    "\n",
    "Method: Apply techniques like K-Means, DBSCAN, or LDA topic modeling on text embeddings.\n",
    "\n",
    "Expected Output: Visual or descriptive reports of discovered themes or outliers.\n",
    "\n",
    "III. Deploy a scalable, retrainable classification pipeline using modern ML techniques and modular design.\n",
    "\n",
    "Purpose: Automate the tagging process for future UNZA research uploads.\n",
    "\n",
    "Method: Build a modular pipeline for preprocessing, vectorization (e.g., TF-IDF or BERT), training, evaluation, and inference.\n",
    "\n",
    "Expected Output: A script or web app that classifies new articles on upload.\n",
    "\n",
    "IV. Continuously evaluate model performance over time using metrics such as F1-score, accuracy, and confusion matrices.\n",
    "\n",
    "Purpose: Ensure system reliability and adaptiveness as language and research topics evolve.\n",
    "\n",
    "Method: Establish a validation framework and regularly benchmark models.\n",
    "\n",
    "Expected Output: Monitoring logs or retraining criteria to prevent model drift."
   ]
  }
 ],
 "metadata": {
  "kernelspec": {
   "display_name": "Python 3",
   "language": "python",
   "name": "python3"
  },
  "language_info": {
   "codemirror_mode": {
    "name": "ipython",
    "version": 2
   },
   "file_extension": ".py",
   "mimetype": "text/x-python",
   "name": "python",
   "nbconvert_exporter": "python",
   "pygments_lexer": "ipython2",
   "version": "2.7.6"
  }
 },
 "nbformat": 4,
 "nbformat_minor": 5
}
