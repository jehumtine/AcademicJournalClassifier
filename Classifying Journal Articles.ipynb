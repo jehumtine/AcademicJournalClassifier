{
 "cells": [
  {
   "cell_type": "markdown",
   "id": "ce2d96c8897dd95a",
   "metadata": {},
   "source": [
    "# Business Understanding\n",
    "## Problem Statement\n",
    "The University of Zambia (UNZA) hosts a growing repository of academic journal articles across multiple disciplines. However, these articles are not systematically categorized according to Zambia’s Vision 2030 development sectors. This lack of alignment presents a missed opportunity to leverage UNZA’s intellectual output for national strategic planning, policy formulation, and sectoral development monitoring.\n",
    "\n",
    "This project aims to develop a data-driven classification system that maps UNZA journal articles to the appropriate Vision 2030 sectors using machine learning techniques. By automating this classification, we intend to bridge the gap between academic research and national development priorities, enabling policymakers, researchers, and institutions to better identify and track sectoral contributions and trends."
   ]
  },
  {
   "cell_type": "markdown",
   "id": "3cddee62",
   "metadata": {},
   "source": [
    "## Objectives\n",
    "**I. To align the University of Zambia’s research with national priorities:**\n",
    "Systematically map academic journal articles to Zambia’s Vision 2030 development sectors to highlight how the UNZA’s intellectual output contributes to achieving national development goals.\n",
    "\n",
    "**II. To enable evidence-based decision-making:**\n",
    "Provide policymakers, researchers, and development stakeholders with an accessible, data-driven tool for identifying sectoral trends and gaps in research, thereby supporting targeted policy formulation and strategic resource allocation.\n",
    "\n",
    "**III. To automate and scale research classification:**\n",
    "Develop a machine learning–powered system to classify and update the categorization of research articles efficiently, ensuring scalability as UNZA’s repository grows and enabling continuous monitoring of sectoral contributions over time."
   ]
  }
 ],
 "metadata": {
  "kernelspec": {
   "display_name": "Python 3",
   "language": "python",
   "name": "python3"
  },
  "language_info": {
   "codemirror_mode": {
    "name": "ipython",
    "version": 2
   },
   "file_extension": ".py",
   "mimetype": "text/x-python",
   "name": "python",
   "nbconvert_exporter": "python",
   "pygments_lexer": "ipython2",
   "version": "2.7.6"
  }
 },
 "nbformat": 4,
 "nbformat_minor": 5
}
